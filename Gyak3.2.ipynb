{
 "cells": [
  {
   "cell_type": "code",
   "execution_count": 14,
   "metadata": {
    "scrolled": true
   },
   "outputs": [],
   "source": [
    "from keras.models import Sequential \n",
    "from keras.layers import Dense, Activation\n",
    "from keras.optimizers import SGD, Adam\n",
    "import numpy as np\n",
    "\n",
    "np.random.seed(1)\n",
    "from tensorflow import set_random_seed\n",
    "set_random_seed(1)\n",
    "\n",
    "from sklearn import preprocessing"
   ]
  },
  {
   "cell_type": "code",
   "execution_count": 15,
   "metadata": {},
   "outputs": [],
   "source": [
    "model = Sequential()\n",
    "model.add(Dense(100, input_shape = (2,))) #2 dim bemenet\n",
    "model.add(Activation('sigmoid'))\n",
    "model.add(Dense(1))\n",
    "model.add(Activation('sigmoid'))"
   ]
  },
  {
   "cell_type": "code",
   "execution_count": 28,
   "metadata": {},
   "outputs": [],
   "source": [
    "#model.compile(loss = 'mse', optimizer = SGD(lr = 0.1))\n",
    "model.compile(loss = 'mse', optimizer = 'adam')"
   ]
  },
  {
   "cell_type": "code",
   "execution_count": 29,
   "metadata": {},
   "outputs": [
    {
     "name": "stdout",
     "output_type": "stream",
     "text": [
      "Model: \"sequential_3\"\n",
      "_________________________________________________________________\n",
      "Layer (type)                 Output Shape              Param #   \n",
      "=================================================================\n",
      "dense_4 (Dense)              (None, 100)               300       \n",
      "_________________________________________________________________\n",
      "activation_3 (Activation)    (None, 100)               0         \n",
      "_________________________________________________________________\n",
      "dense_5 (Dense)              (None, 1)                 101       \n",
      "_________________________________________________________________\n",
      "activation_4 (Activation)    (None, 1)                 0         \n",
      "=================================================================\n",
      "Total params: 401\n",
      "Trainable params: 401\n",
      "Non-trainable params: 0\n",
      "_________________________________________________________________\n"
     ]
    }
   ],
   "source": [
    "model.summary()"
   ]
  },
  {
   "cell_type": "code",
   "execution_count": 30,
   "metadata": {},
   "outputs": [
    {
     "name": "stdout",
     "output_type": "stream",
     "text": [
      "TRAIN mean es std: 5.075305255429287e-17 1.0000000000000002\n",
      "VALID mean es std: -0.0012204937680394855 1.0224062087112988\n",
      "TEST mean es std: 0.011747011792769636 1.021431218906866\n"
     ]
    }
   ],
   "source": [
    "nb_samples = 1000\n",
    "X = np.zeros((nb_samples,2))\n",
    "Y = np.zeros(nb_samples)\n",
    "for i in range(0,nb_samples,4):\n",
    "  noise = np.random.normal(0,1,8)\n",
    "  X[i],   Y[i]   = (-2+noise[0], -2+noise[1]), 0\n",
    "  X[i+1], Y[i+1] = ( 2+noise[2], -2+noise[3]), 1\n",
    "  X[i+2], Y[i+2] = (-2+noise[4],  2+noise[5]), 1\n",
    "  X[i+3], Y[i+3] = ( 2+noise[6],  2+noise[7]), 0\n",
    "\n",
    "valid_split = 0.2\n",
    "test_split = 0.1\n",
    "\n",
    "# train-validation-test minták különválasztása\n",
    "X_train = X[0:int(X.shape[0]*(1-valid_split-test_split))]\n",
    "Y_train = Y[0:int(X.shape[0]*(1-valid_split-test_split))]\n",
    "X_valid = X[int(X.shape[0]*(1-valid_split-test_split)):int(X.shape[0]*(1-test_split))]\n",
    "Y_valid = Y[int(X.shape[0]*(1-valid_split-test_split)):int(X.shape[0]*(1-test_split))]\n",
    "X_test  = X[int(X.shape[0]*(1-test_split)):]\n",
    "Y_test  = Y[int(X.shape[0]*(1-test_split)):]\n",
    "\n",
    "# standardizálás\n",
    "scaler = preprocessing.StandardScaler().fit(X_train)\n",
    "X_train = scaler.transform(X_train)\n",
    "X_valid = scaler.transform(X_valid)\n",
    "X_test  = scaler.transform(X_test)\n",
    "\n",
    "print(\"TRAIN mean es std:\",np.mean(X_train), np.std(X_train))\n",
    "print(\"VALID mean es std:\",np.mean(X_valid), np.std(X_valid))\n",
    "print(\"TEST mean es std:\",np.mean(X_test), np.std(X_test))"
   ]
  },
  {
   "cell_type": "code",
   "execution_count": 31,
   "metadata": {},
   "outputs": [
    {
     "name": "stdout",
     "output_type": "stream",
     "text": [
      "Train on 700 samples, validate on 200 samples\n",
      "Epoch 1/100\n",
      "700/700 [==============================] - 0s 398us/step - loss: 0.0276 - val_loss: 0.0368\n",
      "Epoch 2/100\n",
      "700/700 [==============================] - 0s 45us/step - loss: 0.0272 - val_loss: 0.0370\n",
      "Epoch 3/100\n",
      "700/700 [==============================] - 0s 54us/step - loss: 0.0272 - val_loss: 0.0373\n",
      "Epoch 4/100\n",
      "700/700 [==============================] - 0s 48us/step - loss: 0.0271 - val_loss: 0.0374\n",
      "Epoch 5/100\n",
      "700/700 [==============================] - 0s 52us/step - loss: 0.0270 - val_loss: 0.0376\n",
      "Epoch 6/100\n",
      "700/700 [==============================] - 0s 69us/step - loss: 0.0270 - val_loss: 0.0376\n",
      "Epoch 7/100\n",
      "700/700 [==============================] - 0s 77us/step - loss: 0.0270 - val_loss: 0.0376\n",
      "Epoch 8/100\n",
      "700/700 [==============================] - 0s 75us/step - loss: 0.0270 - val_loss: 0.0378\n",
      "Epoch 9/100\n",
      "700/700 [==============================] - 0s 77us/step - loss: 0.0270 - val_loss: 0.0380\n",
      "Epoch 10/100\n",
      "700/700 [==============================] - 0s 74us/step - loss: 0.0269 - val_loss: 0.0380\n",
      "Epoch 11/100\n",
      "700/700 [==============================] - 0s 79us/step - loss: 0.0270 - val_loss: 0.0380\n",
      "Epoch 12/100\n",
      "700/700 [==============================] - 0s 78us/step - loss: 0.0269 - val_loss: 0.0383\n",
      "Epoch 13/100\n",
      "700/700 [==============================] - 0s 81us/step - loss: 0.0268 - val_loss: 0.0382\n",
      "Epoch 14/100\n",
      "700/700 [==============================] - 0s 77us/step - loss: 0.0268 - val_loss: 0.0383\n",
      "Epoch 15/100\n",
      "700/700 [==============================] - 0s 79us/step - loss: 0.0267 - val_loss: 0.0385\n",
      "Epoch 16/100\n",
      "700/700 [==============================] - 0s 77us/step - loss: 0.0267 - val_loss: 0.0384\n",
      "Epoch 17/100\n",
      "700/700 [==============================] - 0s 74us/step - loss: 0.0268 - val_loss: 0.0385\n",
      "Epoch 18/100\n",
      "700/700 [==============================] - 0s 81us/step - loss: 0.0266 - val_loss: 0.0386\n",
      "Epoch 19/100\n",
      "700/700 [==============================] - 0s 80us/step - loss: 0.0266 - val_loss: 0.0385\n",
      "Epoch 20/100\n",
      "700/700 [==============================] - 0s 80us/step - loss: 0.0266 - val_loss: 0.0389\n",
      "Epoch 21/100\n",
      "700/700 [==============================] - 0s 72us/step - loss: 0.0265 - val_loss: 0.0387\n",
      "Epoch 22/100\n",
      "700/700 [==============================] - 0s 68us/step - loss: 0.0266 - val_loss: 0.0388\n",
      "Epoch 23/100\n",
      "700/700 [==============================] - 0s 73us/step - loss: 0.0266 - val_loss: 0.0388\n",
      "Epoch 24/100\n",
      "700/700 [==============================] - 0s 76us/step - loss: 0.0264 - val_loss: 0.0389\n",
      "Epoch 25/100\n",
      "700/700 [==============================] - 0s 70us/step - loss: 0.0266 - val_loss: 0.0389\n",
      "Epoch 26/100\n",
      "700/700 [==============================] - 0s 73us/step - loss: 0.0264 - val_loss: 0.0390\n",
      "Epoch 27/100\n",
      "700/700 [==============================] - 0s 73us/step - loss: 0.0264 - val_loss: 0.0391\n",
      "Epoch 28/100\n",
      "700/700 [==============================] - 0s 75us/step - loss: 0.0263 - val_loss: 0.0391\n",
      "Epoch 29/100\n",
      "700/700 [==============================] - 0s 74us/step - loss: 0.0263 - val_loss: 0.0390\n",
      "Epoch 30/100\n",
      "700/700 [==============================] - 0s 71us/step - loss: 0.0264 - val_loss: 0.0392\n",
      "Epoch 31/100\n",
      "700/700 [==============================] - 0s 71us/step - loss: 0.0262 - val_loss: 0.0392\n",
      "Epoch 32/100\n",
      "700/700 [==============================] - 0s 71us/step - loss: 0.0263 - val_loss: 0.0391\n",
      "Epoch 33/100\n",
      "700/700 [==============================] - 0s 69us/step - loss: 0.0263 - val_loss: 0.0393\n",
      "Epoch 34/100\n",
      "700/700 [==============================] - 0s 74us/step - loss: 0.0263 - val_loss: 0.0392\n",
      "Epoch 35/100\n",
      "700/700 [==============================] - 0s 78us/step - loss: 0.0262 - val_loss: 0.0394\n",
      "Epoch 36/100\n",
      "700/700 [==============================] - 0s 72us/step - loss: 0.0261 - val_loss: 0.0394\n",
      "Epoch 37/100\n",
      "700/700 [==============================] - 0s 75us/step - loss: 0.0262 - val_loss: 0.0395\n",
      "Epoch 38/100\n",
      "700/700 [==============================] - 0s 71us/step - loss: 0.0261 - val_loss: 0.0394\n",
      "Epoch 39/100\n",
      "700/700 [==============================] - 0s 81us/step - loss: 0.0261 - val_loss: 0.0394\n",
      "Epoch 40/100\n",
      "700/700 [==============================] - 0s 69us/step - loss: 0.0261 - val_loss: 0.0394\n",
      "Epoch 41/100\n",
      "700/700 [==============================] - 0s 68us/step - loss: 0.0260 - val_loss: 0.0395\n",
      "Epoch 42/100\n",
      "700/700 [==============================] - 0s 74us/step - loss: 0.0261 - val_loss: 0.0396\n",
      "Epoch 43/100\n",
      "700/700 [==============================] - 0s 75us/step - loss: 0.0260 - val_loss: 0.0395\n",
      "Epoch 44/100\n",
      "700/700 [==============================] - 0s 73us/step - loss: 0.0261 - val_loss: 0.0397\n",
      "Epoch 45/100\n",
      "700/700 [==============================] - 0s 80us/step - loss: 0.0261 - val_loss: 0.0396\n",
      "Epoch 46/100\n",
      "700/700 [==============================] - 0s 89us/step - loss: 0.0260 - val_loss: 0.0397\n",
      "Epoch 47/100\n",
      "700/700 [==============================] - 0s 84us/step - loss: 0.0260 - val_loss: 0.0397\n",
      "Epoch 48/100\n",
      "700/700 [==============================] - 0s 87us/step - loss: 0.0260 - val_loss: 0.0398\n",
      "Epoch 49/100\n",
      "700/700 [==============================] - 0s 85us/step - loss: 0.0259 - val_loss: 0.0396\n",
      "Epoch 50/100\n",
      "700/700 [==============================] - 0s 85us/step - loss: 0.0260 - val_loss: 0.0396\n",
      "Epoch 51/100\n",
      "700/700 [==============================] - 0s 87us/step - loss: 0.0262 - val_loss: 0.0398\n",
      "Epoch 52/100\n",
      "700/700 [==============================] - 0s 85us/step - loss: 0.0261 - val_loss: 0.0399\n",
      "Epoch 53/100\n",
      "700/700 [==============================] - 0s 84us/step - loss: 0.0259 - val_loss: 0.0397\n",
      "Epoch 54/100\n",
      "700/700 [==============================] - 0s 78us/step - loss: 0.0259 - val_loss: 0.0398\n",
      "Epoch 55/100\n",
      "700/700 [==============================] - 0s 81us/step - loss: 0.0259 - val_loss: 0.0399\n",
      "Epoch 56/100\n",
      "700/700 [==============================] - 0s 75us/step - loss: 0.0258 - val_loss: 0.0400\n",
      "Epoch 57/100\n",
      "700/700 [==============================] - 0s 83us/step - loss: 0.0259 - val_loss: 0.0399\n",
      "Epoch 58/100\n",
      "700/700 [==============================] - 0s 89us/step - loss: 0.0258 - val_loss: 0.0400\n",
      "Epoch 59/100\n",
      "700/700 [==============================] - 0s 72us/step - loss: 0.0258 - val_loss: 0.0401\n",
      "Epoch 60/100\n",
      "700/700 [==============================] - 0s 77us/step - loss: 0.0257 - val_loss: 0.0400\n",
      "Epoch 61/100\n",
      "700/700 [==============================] - 0s 79us/step - loss: 0.0258 - val_loss: 0.0399\n",
      "Epoch 62/100\n",
      "700/700 [==============================] - 0s 73us/step - loss: 0.0257 - val_loss: 0.0401\n",
      "Epoch 63/100\n",
      "700/700 [==============================] - 0s 69us/step - loss: 0.0259 - val_loss: 0.0403\n",
      "Epoch 64/100\n",
      "700/700 [==============================] - 0s 72us/step - loss: 0.0257 - val_loss: 0.0402\n",
      "Epoch 65/100\n",
      "700/700 [==============================] - 0s 79us/step - loss: 0.0257 - val_loss: 0.0399\n",
      "Epoch 66/100\n",
      "700/700 [==============================] - 0s 74us/step - loss: 0.0257 - val_loss: 0.0400\n",
      "Epoch 67/100\n",
      "700/700 [==============================] - 0s 73us/step - loss: 0.0257 - val_loss: 0.0401\n",
      "Epoch 68/100\n",
      "700/700 [==============================] - 0s 69us/step - loss: 0.0256 - val_loss: 0.0403\n",
      "Epoch 69/100\n",
      "700/700 [==============================] - 0s 76us/step - loss: 0.0258 - val_loss: 0.0403\n",
      "Epoch 70/100\n",
      "700/700 [==============================] - 0s 72us/step - loss: 0.0256 - val_loss: 0.0402\n",
      "Epoch 71/100\n",
      "700/700 [==============================] - 0s 72us/step - loss: 0.0257 - val_loss: 0.0400\n",
      "Epoch 72/100\n",
      "700/700 [==============================] - 0s 77us/step - loss: 0.0256 - val_loss: 0.0403\n",
      "Epoch 73/100\n",
      "700/700 [==============================] - 0s 75us/step - loss: 0.0256 - val_loss: 0.0403\n",
      "Epoch 74/100\n",
      "700/700 [==============================] - 0s 78us/step - loss: 0.0257 - val_loss: 0.0402\n",
      "Epoch 75/100\n",
      "700/700 [==============================] - 0s 72us/step - loss: 0.0256 - val_loss: 0.0403\n",
      "Epoch 76/100\n",
      "700/700 [==============================] - 0s 78us/step - loss: 0.0256 - val_loss: 0.0404\n",
      "Epoch 77/100\n",
      "700/700 [==============================] - 0s 74us/step - loss: 0.0256 - val_loss: 0.0403\n",
      "Epoch 78/100\n",
      "700/700 [==============================] - 0s 72us/step - loss: 0.0256 - val_loss: 0.0402\n",
      "Epoch 79/100\n",
      "700/700 [==============================] - 0s 74us/step - loss: 0.0256 - val_loss: 0.0404\n",
      "Epoch 80/100\n"
     ]
    },
    {
     "name": "stdout",
     "output_type": "stream",
     "text": [
      "700/700 [==============================] - 0s 78us/step - loss: 0.0256 - val_loss: 0.0403\n",
      "Epoch 81/100\n",
      "700/700 [==============================] - 0s 70us/step - loss: 0.0257 - val_loss: 0.0404\n",
      "Epoch 82/100\n",
      "700/700 [==============================] - 0s 76us/step - loss: 0.0255 - val_loss: 0.0405\n",
      "Epoch 83/100\n",
      "700/700 [==============================] - 0s 72us/step - loss: 0.0256 - val_loss: 0.0406\n",
      "Epoch 84/100\n",
      "700/700 [==============================] - 0s 71us/step - loss: 0.0255 - val_loss: 0.0404\n",
      "Epoch 85/100\n",
      "700/700 [==============================] - 0s 68us/step - loss: 0.0255 - val_loss: 0.0404\n",
      "Epoch 86/100\n",
      "700/700 [==============================] - 0s 66us/step - loss: 0.0256 - val_loss: 0.0404\n",
      "Epoch 87/100\n",
      "700/700 [==============================] - 0s 72us/step - loss: 0.0255 - val_loss: 0.0404\n",
      "Epoch 88/100\n",
      "700/700 [==============================] - 0s 75us/step - loss: 0.0255 - val_loss: 0.0406\n",
      "Epoch 89/100\n",
      "700/700 [==============================] - 0s 64us/step - loss: 0.0254 - val_loss: 0.0407\n",
      "Epoch 90/100\n",
      "700/700 [==============================] - 0s 69us/step - loss: 0.0255 - val_loss: 0.0405\n",
      "Epoch 91/100\n",
      "700/700 [==============================] - 0s 72us/step - loss: 0.0255 - val_loss: 0.0406\n",
      "Epoch 92/100\n",
      "700/700 [==============================] - 0s 71us/step - loss: 0.0254 - val_loss: 0.0405\n",
      "Epoch 93/100\n",
      "700/700 [==============================] - 0s 71us/step - loss: 0.0254 - val_loss: 0.0404\n",
      "Epoch 94/100\n",
      "700/700 [==============================] - 0s 71us/step - loss: 0.0254 - val_loss: 0.0406\n",
      "Epoch 95/100\n",
      "700/700 [==============================] - 0s 71us/step - loss: 0.0255 - val_loss: 0.0405\n",
      "Epoch 96/100\n",
      "700/700 [==============================] - 0s 72us/step - loss: 0.0254 - val_loss: 0.0405\n",
      "Epoch 97/100\n",
      "700/700 [==============================] - 0s 71us/step - loss: 0.0254 - val_loss: 0.0407\n",
      "Epoch 98/100\n",
      "700/700 [==============================] - 0s 68us/step - loss: 0.0254 - val_loss: 0.0406\n",
      "Epoch 99/100\n",
      "700/700 [==============================] - 0s 67us/step - loss: 0.0254 - val_loss: 0.0407\n",
      "Epoch 100/100\n",
      "700/700 [==============================] - 0s 73us/step - loss: 0.0254 - val_loss: 0.0404\n"
     ]
    },
    {
     "data": {
      "text/plain": [
       "<keras.callbacks.callbacks.History at 0x24c883f2128>"
      ]
     },
     "execution_count": 31,
     "metadata": {},
     "output_type": "execute_result"
    }
   ],
   "source": [
    "\n",
    "model.fit(X_train, Y_train,\n",
    "          validation_data=(X_valid,Y_valid),\n",
    "          epochs=100,\n",
    "          batch_size=32,\n",
    "          shuffle=True)"
   ]
  },
  {
   "cell_type": "code",
   "execution_count": 32,
   "metadata": {},
   "outputs": [],
   "source": [
    "from keras.callbacks import EarlyStopping, ModelCheckpoint"
   ]
  },
  {
   "cell_type": "code",
   "execution_count": 33,
   "metadata": {},
   "outputs": [],
   "source": [
    "es = EarlyStopping(patience = 10, verbose = 1)\n",
    "mcp = ModelCheckpoint(filepath = 'model.hdf5', save_best_only = True, verbose = 1)"
   ]
  },
  {
   "cell_type": "code",
   "execution_count": 34,
   "metadata": {},
   "outputs": [
    {
     "name": "stdout",
     "output_type": "stream",
     "text": [
      "Train on 700 samples, validate on 200 samples\n",
      "Epoch 1/100000000000000\n",
      "700/700 [==============================] - 0s 89us/step - loss: 0.0254 - val_loss: 0.0404\n",
      "\n",
      "Epoch 00001: val_loss improved from inf to 0.04041, saving model to model.hdf5\n",
      "Epoch 2/100000000000000\n",
      "700/700 [==============================] - 0s 68us/step - loss: 0.0253 - val_loss: 0.0406\n",
      "\n",
      "Epoch 00002: val_loss did not improve from 0.04041\n",
      "Epoch 3/100000000000000\n",
      "700/700 [==============================] - 0s 66us/step - loss: 0.0253 - val_loss: 0.0405\n",
      "\n",
      "Epoch 00003: val_loss did not improve from 0.04041\n",
      "Epoch 4/100000000000000\n",
      "700/700 [==============================] - 0s 76us/step - loss: 0.0253 - val_loss: 0.0407\n",
      "\n",
      "Epoch 00004: val_loss did not improve from 0.04041\n",
      "Epoch 5/100000000000000\n",
      "700/700 [==============================] - 0s 67us/step - loss: 0.0254 - val_loss: 0.0407\n",
      "\n",
      "Epoch 00005: val_loss did not improve from 0.04041\n",
      "Epoch 6/100000000000000\n",
      "700/700 [==============================] - 0s 72us/step - loss: 0.0255 - val_loss: 0.0405\n",
      "\n",
      "Epoch 00006: val_loss did not improve from 0.04041\n",
      "Epoch 7/100000000000000\n",
      "700/700 [==============================] - 0s 73us/step - loss: 0.0253 - val_loss: 0.0406\n",
      "\n",
      "Epoch 00007: val_loss did not improve from 0.04041\n",
      "Epoch 8/100000000000000\n",
      "700/700 [==============================] - 0s 81us/step - loss: 0.0254 - val_loss: 0.0406\n",
      "\n",
      "Epoch 00008: val_loss did not improve from 0.04041\n",
      "Epoch 9/100000000000000\n",
      "700/700 [==============================] - 0s 76us/step - loss: 0.0253 - val_loss: 0.0405\n",
      "\n",
      "Epoch 00009: val_loss did not improve from 0.04041\n",
      "Epoch 10/100000000000000\n",
      "700/700 [==============================] - 0s 74us/step - loss: 0.0254 - val_loss: 0.0408\n",
      "\n",
      "Epoch 00010: val_loss did not improve from 0.04041\n",
      "Epoch 11/100000000000000\n",
      "700/700 [==============================] - 0s 68us/step - loss: 0.0253 - val_loss: 0.0407\n",
      "\n",
      "Epoch 00011: val_loss did not improve from 0.04041\n",
      "Epoch 00011: early stopping\n"
     ]
    },
    {
     "data": {
      "text/plain": [
       "<keras.callbacks.callbacks.History at 0x24c899c09b0>"
      ]
     },
     "execution_count": 34,
     "metadata": {},
     "output_type": "execute_result"
    }
   ],
   "source": [
    "model.fit(X_train, Y_train,\n",
    "          validation_data=(X_valid,Y_valid),\n",
    "          epochs=100000000000000,\n",
    "          batch_size=32,\n",
    "          shuffle=True,\n",
    "          callbacks = [mcp, es])"
   ]
  },
  {
   "cell_type": "code",
   "execution_count": 35,
   "metadata": {},
   "outputs": [
    {
     "name": "stdout",
     "output_type": "stream",
     "text": [
      "100/100 [==============================] - 0s 135us/step\n"
     ]
    },
    {
     "data": {
      "text/plain": [
       "0.035441382201388476"
      ]
     },
     "execution_count": 35,
     "metadata": {},
     "output_type": "execute_result"
    }
   ],
   "source": [
    "model.evaluate(X_test, Y_test)"
   ]
  },
  {
   "cell_type": "code",
   "execution_count": 36,
   "metadata": {},
   "outputs": [],
   "source": [
    "preds = model.predict(X_test)"
   ]
  },
  {
   "cell_type": "code",
   "execution_count": 37,
   "metadata": {},
   "outputs": [],
   "source": [
    "from sklearn.metrics import mean_squared_error\n",
    "test_error = mean_squared_error(Y_test, preds)"
   ]
  },
  {
   "cell_type": "code",
   "execution_count": 38,
   "metadata": {},
   "outputs": [
    {
     "name": "stdout",
     "output_type": "stream",
     "text": [
      "0.035441381914299304\n"
     ]
    }
   ],
   "source": [
    "print(test_error) #nem töltöttük vissza early stop után"
   ]
  },
  {
   "cell_type": "code",
   "execution_count": 39,
   "metadata": {},
   "outputs": [],
   "source": [
    "from keras.models import load_model\n",
    "model = load_model('model.hdf5')"
   ]
  },
  {
   "cell_type": "code",
   "execution_count": 41,
   "metadata": {},
   "outputs": [
    {
     "name": "stdout",
     "output_type": "stream",
     "text": [
      "0.03559138687952693\n"
     ]
    }
   ],
   "source": [
    "from sklearn.metrics import mean_squared_error\n",
    "preds = model.predict(X_test)\n",
    "test_error = mean_squared_error(Y_test, preds)\n",
    "print(test_error)"
   ]
  },
  {
   "cell_type": "code",
   "execution_count": null,
   "metadata": {},
   "outputs": [],
   "source": []
  }
 ],
 "metadata": {
  "kernelspec": {
   "display_name": "Python 3",
   "language": "python",
   "name": "python3"
  },
  "language_info": {
   "codemirror_mode": {
    "name": "ipython",
    "version": 3
   },
   "file_extension": ".py",
   "mimetype": "text/x-python",
   "name": "python",
   "nbconvert_exporter": "python",
   "pygments_lexer": "ipython3",
   "version": "3.7.3"
  }
 },
 "nbformat": 4,
 "nbformat_minor": 2
}
