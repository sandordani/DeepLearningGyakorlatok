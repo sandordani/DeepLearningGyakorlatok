{
 "cells": [
  {
   "cell_type": "code",
   "execution_count": 1,
   "metadata": {},
   "outputs": [
    {
     "name": "stderr",
     "output_type": "stream",
     "text": [
      "Using TensorFlow backend.\n"
     ]
    }
   ],
   "source": [
    "from keras.layers import Input, Dense, Lambda, Layer, Multiply, Add, Conv2D, Conv2DTranspose, Flatten, Reshape\n",
    "from keras.models import Model, Sequential\n",
    "from keras.utils.vis_utils import plot_model\n",
    "from keras import backend as K\n",
    "import matplotlib.pyplot as plt\n",
    "from scipy.stats import norm\n",
    "import numpy as np\n",
    "from keras.datasets import cifar10\n",
    "import matplotlib.pyplot as plt"
   ]
  },
  {
   "cell_type": "code",
   "execution_count": 2,
   "metadata": {},
   "outputs": [
    {
     "data": {
      "image/png": "[encoded data removed]",
      "text/plain": [
       "<Figure size 576x576 with 5 Axes>"
      ]
     },
     "metadata": {
      "needs_background": "light"
     },
     "output_type": "display_data"
    }
   ],
   "source": [
    "batch_size = 100\n",
    "#original_dim = 784 #(28x28)\n",
    "latent_dim = 16\n",
    "intermediate_dim  = 576\n",
    "epochs = 20\n",
    "\n",
    "(x_train, y_train), (x_test, y_test) = cifar10.load_data()\n",
    "\n",
    "category = 1\n",
    "\n",
    "x_train = x_train[y_train[:,0]==category,:,:] /255\n",
    "y_train = y_train[y_train==category]\n",
    "x_test = x_test[y_test[:,0]==category] /255\n",
    "y_test = y_test[y_test==category]\n",
    "\n",
    "fig=plt.figure(figsize=(8, 8))\n",
    "columns = 5\n",
    "rows = 1\n",
    "for i in range(1, columns*rows +1):\n",
    "    fig.add_subplot(rows, columns, i)\n",
    "    plt.imshow(x_train[i])"
   ]
  },
  {
   "cell_type": "code",
   "execution_count": 3,
   "metadata": {},
   "outputs": [],
   "source": [
    "class KLDivergenceLayer(Layer):\n",
    "    #keras layerként jelenik meg\n",
    "\n",
    "    \"\"\" \n",
    "    Identity transform layer that adds KL divergence\n",
    "    to the final model loss.\n",
    "    \"\"\"\n",
    "\n",
    "    def __init__(self, *args, **kwargs):\n",
    "        self.is_placeholder = True\n",
    "        super(KLDivergenceLayer, self).__init__(*args, **kwargs)\n",
    "\n",
    "    def call(self, inputs):\n",
    "\n",
    "        mu, log_var = inputs\n",
    "\n",
    "        kl_batch = - .5 * K.sum(1 + log_var -\n",
    "                                K.square(mu) -\n",
    "                                K.exp(log_var), axis=-1)\n",
    "\n",
    "        self.add_loss(K.mean(kl_batch), inputs=inputs)\n",
    "\n",
    "        return inputs"
   ]
  },
  {
   "cell_type": "code",
   "execution_count": null,
   "metadata": {},
   "outputs": [],
   "source": [
    "x = Input(shape=(32, 32, 3))\n",
    "\n",
    "x1 = Conv2D(64, (3, 3), padding=\"same\", activation=\"relu\", input_shape=(x_test.shape,))(x)\n",
    "x1 = Conv2D(128, (3, 3), padding=\"same\", activation=\"relu\", input_shape=(x_test.shape,))(x1)\n",
    "x1 = Conv2D(256, (3, 3), padding=\"same\", activation=\"relu\", input_shape=(x_test.shape,))(x1)\n",
    "\n",
    "x1 = Flatten()(x1)\n",
    "\n",
    "# rejtett réteg\n",
    "h = Dense(intermediate_dim, activation='relu')(x1)\n",
    "\n",
    "# kimeneti réteg: átlag és a variancia logaritmusa\n",
    "z_mu = Dense(latent_dim)(h)\n",
    "z_log_var = Dense(latent_dim)(h)\n",
    "\n",
    "z_mu, z_log_var = KLDivergenceLayer()([z_mu, z_log_var])\n",
    "\n",
    "z_sigma = Lambda(lambda t: K.exp(.5*t))(z_log_var)\n",
    "\n",
    "eps = Input(tensor=K.random_normal(shape=(K.shape(x)[0],latent_dim)))\n",
    "\n",
    "z_eps = Multiply()([z_sigma,eps])\n",
    "z = Add()([z_mu, z_eps])\n",
    "\n",
    "decoder = Sequential([\n",
    "    Dense(intermediate_dim, input_dim=latent_dim, activation='relu'),\n",
    "    Reshape((np.sqrt(intermediate_dim),np.sqrt(intermediate_dim),1)),\n",
    "    Conv2DTranspose(256, (3,3), activation='relu', padding='same'),\n",
    "    Conv2DTranspose(128, (3,3), activation='relu', padding='same'),\n",
    "    Conv2DTranspose(64, (3,3), activation='relu', padding='same'),\n",
    "    Conv2DTranspose(3, (3,3), activation='relu', padding='same')\n",
    "])\n",
    "\n",
    "x_pred = decoder(z)"
   ]
  },
  {
   "cell_type": "code",
   "execution_count": null,
   "metadata": {},
   "outputs": [],
   "source": [
    "def nll(y_true, y_pred):\n",
    "    return K.sum(K.binary_crossentropy(y_true, y_pred), axis=-1)"
   ]
  },
  {
   "cell_type": "code",
   "execution_count": null,
   "metadata": {},
   "outputs": [],
   "source": [
    "vae = Model(inputs=[x,eps], outputs=x_pred)"
   ]
  },
  {
   "cell_type": "code",
   "execution_count": null,
   "metadata": {},
   "outputs": [],
   "source": [
    "vae.compile(optimizer='rmsprop',loss=nll)"
   ]
  },
  {
   "cell_type": "code",
   "execution_count": null,
   "metadata": {},
   "outputs": [],
   "source": [
    "vae.summary()"
   ]
  },
  {
   "cell_type": "code",
   "execution_count": null,
   "metadata": {},
   "outputs": [],
   "source": [
    "decoder.summary()"
   ]
  },
  {
   "cell_type": "code",
   "execution_count": null,
   "metadata": {},
   "outputs": [],
   "source": [
    "vae.fit(x_train, x_train, shuffle=True, epochs=epochs, batch_size=batch_size, validation_data=(x_test, x_test))"
   ]
  },
  {
   "cell_type": "code",
   "execution_count": null,
   "metadata": {},
   "outputs": [],
   "source": [
    "encoder = Model(x, z_mu)\n",
    "encoder.summary()"
   ]
  },
  {
   "cell_type": "code",
   "execution_count": null,
   "metadata": {},
   "outputs": [],
   "source": [
    "fig=plt.figure(figsize=(8, 6))\n",
    "columns = 3\n",
    "rows = 2\n",
    "\n",
    "for i in range(1,7):\n",
    "    z_sample = norm.ppf(np.random.rand(1,16))\n",
    "    gen_image = decoder.predict(z_sample)\n",
    "    fig.add_subplot(rows, columns, i)\n",
    "    plt.imshow(gen_image.reshape(32,32,3))\n",
    "plt.show()"
   ]
  },
  {
   "cell_type": "code",
   "execution_count": null,
   "metadata": {},
   "outputs": [],
   "source": []
  },
  {
   "cell_type": "code",
   "execution_count": null,
   "metadata": {},
   "outputs": [],
   "source": []
  }
 ],
 "metadata": {
  "kernelspec": {
   "display_name": "Python 3",
   "language": "python",
   "name": "python3"
  },
  "language_info": {
   "codemirror_mode": {
    "name": "ipython",
    "version": 3
   },
   "file_extension": ".py",
   "mimetype": "text/x-python",
   "name": "python",
   "nbconvert_exporter": "python",
   "pygments_lexer": "ipython3",
   "version": "3.7.3"
  }
 },
 "nbformat": 4,
 "nbformat_minor": 2
}
