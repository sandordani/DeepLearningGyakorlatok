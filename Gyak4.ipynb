{
 "cells": [
  {
   "cell_type": "code",
   "execution_count": 24,
   "metadata": {},
   "outputs": [],
   "source": [
    "import numpy as np\n",
    "import pandas as pd\n",
    "from keras.models import Sequential, load_model\n",
    "from keras.layers import Dense, Dropout, Activation\n",
    "from keras.callbacks import EarlyStopping, ModelCheckpoint\n",
    "from sklearn.preprocessing import StandardScaler\n",
    "from keras.optimizers import Adam\n",
    "import matplotlib.pyplot as plt\n",
    "\n",
    "np.random.seed(123)"
   ]
  },
  {
   "cell_type": "code",
   "execution_count": 2,
   "metadata": {},
   "outputs": [
    {
     "data": {
      "text/html": [
       "<div>\n",
       "<style scoped>\n",
       "    .dataframe tbody tr th:only-of-type {\n",
       "        vertical-align: middle;\n",
       "    }\n",
       "\n",
       "    .dataframe tbody tr th {\n",
       "        vertical-align: top;\n",
       "    }\n",
       "\n",
       "    .dataframe thead th {\n",
       "        text-align: right;\n",
       "    }\n",
       "</style>\n",
       "<table border=\"1\" class=\"dataframe\">\n",
       "  <thead>\n",
       "    <tr style=\"text-align: right;\">\n",
       "      <th></th>\n",
       "      <th>crim</th>\n",
       "      <th>zn</th>\n",
       "      <th>indus</th>\n",
       "      <th>chas</th>\n",
       "      <th>nox</th>\n",
       "      <th>rm</th>\n",
       "      <th>age</th>\n",
       "      <th>dis</th>\n",
       "      <th>rad</th>\n",
       "      <th>tax</th>\n",
       "      <th>ptratio</th>\n",
       "      <th>b</th>\n",
       "      <th>lstat</th>\n",
       "      <th>medv</th>\n",
       "    </tr>\n",
       "  </thead>\n",
       "  <tbody>\n",
       "    <tr>\n",
       "      <th>0</th>\n",
       "      <td>0.00632</td>\n",
       "      <td>18.0</td>\n",
       "      <td>2.31</td>\n",
       "      <td>0</td>\n",
       "      <td>0.538</td>\n",
       "      <td>6.575</td>\n",
       "      <td>65.2</td>\n",
       "      <td>4.0900</td>\n",
       "      <td>1</td>\n",
       "      <td>296.0</td>\n",
       "      <td>15.3</td>\n",
       "      <td>396.90</td>\n",
       "      <td>4.98</td>\n",
       "      <td>24.0</td>\n",
       "    </tr>\n",
       "    <tr>\n",
       "      <th>1</th>\n",
       "      <td>0.02731</td>\n",
       "      <td>0.0</td>\n",
       "      <td>7.07</td>\n",
       "      <td>0</td>\n",
       "      <td>0.469</td>\n",
       "      <td>6.421</td>\n",
       "      <td>78.9</td>\n",
       "      <td>4.9671</td>\n",
       "      <td>2</td>\n",
       "      <td>242.0</td>\n",
       "      <td>17.8</td>\n",
       "      <td>396.90</td>\n",
       "      <td>9.14</td>\n",
       "      <td>21.6</td>\n",
       "    </tr>\n",
       "    <tr>\n",
       "      <th>2</th>\n",
       "      <td>0.02729</td>\n",
       "      <td>0.0</td>\n",
       "      <td>7.07</td>\n",
       "      <td>0</td>\n",
       "      <td>0.469</td>\n",
       "      <td>7.185</td>\n",
       "      <td>61.1</td>\n",
       "      <td>4.9671</td>\n",
       "      <td>2</td>\n",
       "      <td>242.0</td>\n",
       "      <td>17.8</td>\n",
       "      <td>392.83</td>\n",
       "      <td>4.03</td>\n",
       "      <td>34.7</td>\n",
       "    </tr>\n",
       "    <tr>\n",
       "      <th>3</th>\n",
       "      <td>0.03237</td>\n",
       "      <td>0.0</td>\n",
       "      <td>2.18</td>\n",
       "      <td>0</td>\n",
       "      <td>0.458</td>\n",
       "      <td>6.998</td>\n",
       "      <td>45.8</td>\n",
       "      <td>6.0622</td>\n",
       "      <td>3</td>\n",
       "      <td>222.0</td>\n",
       "      <td>18.7</td>\n",
       "      <td>394.63</td>\n",
       "      <td>2.94</td>\n",
       "      <td>33.4</td>\n",
       "    </tr>\n",
       "    <tr>\n",
       "      <th>4</th>\n",
       "      <td>0.06905</td>\n",
       "      <td>0.0</td>\n",
       "      <td>2.18</td>\n",
       "      <td>0</td>\n",
       "      <td>0.458</td>\n",
       "      <td>7.147</td>\n",
       "      <td>54.2</td>\n",
       "      <td>6.0622</td>\n",
       "      <td>3</td>\n",
       "      <td>222.0</td>\n",
       "      <td>18.7</td>\n",
       "      <td>396.90</td>\n",
       "      <td>5.33</td>\n",
       "      <td>36.2</td>\n",
       "    </tr>\n",
       "  </tbody>\n",
       "</table>\n",
       "</div>"
      ],
      "text/plain": [
       "      crim    zn  indus  chas    nox     rm   age     dis  rad    tax  \\\n",
       "0  0.00632  18.0   2.31     0  0.538  6.575  65.2  4.0900    1  296.0   \n",
       "1  0.02731   0.0   7.07     0  0.469  6.421  78.9  4.9671    2  242.0   \n",
       "2  0.02729   0.0   7.07     0  0.469  7.185  61.1  4.9671    2  242.0   \n",
       "3  0.03237   0.0   2.18     0  0.458  6.998  45.8  6.0622    3  222.0   \n",
       "4  0.06905   0.0   2.18     0  0.458  7.147  54.2  6.0622    3  222.0   \n",
       "\n",
       "   ptratio       b  lstat  medv  \n",
       "0     15.3  396.90   4.98  24.0  \n",
       "1     17.8  396.90   9.14  21.6  \n",
       "2     17.8  392.83   4.03  34.7  \n",
       "3     18.7  394.63   2.94  33.4  \n",
       "4     18.7  396.90   5.33  36.2  "
      ]
     },
     "execution_count": 2,
     "metadata": {},
     "output_type": "execute_result"
    }
   ],
   "source": [
    "df = pd.read_csv('housing.data', delim_whitespace = True, header = None)\n",
    "df.columns = ['crim','zn','indus','chas','nox','rm','age','dis','rad','tax','ptratio','b','lstat','medv']\n",
    "df.head()"
   ]
  },
  {
   "cell_type": "code",
   "execution_count": 3,
   "metadata": {},
   "outputs": [
    {
     "data": {
      "text/html": [
       "<div>\n",
       "<style scoped>\n",
       "    .dataframe tbody tr th:only-of-type {\n",
       "        vertical-align: middle;\n",
       "    }\n",
       "\n",
       "    .dataframe tbody tr th {\n",
       "        vertical-align: top;\n",
       "    }\n",
       "\n",
       "    .dataframe thead th {\n",
       "        text-align: right;\n",
       "    }\n",
       "</style>\n",
       "<table border=\"1\" class=\"dataframe\">\n",
       "  <thead>\n",
       "    <tr style=\"text-align: right;\">\n",
       "      <th></th>\n",
       "      <th>crim</th>\n",
       "      <th>zn</th>\n",
       "      <th>indus</th>\n",
       "      <th>chas</th>\n",
       "      <th>nox</th>\n",
       "      <th>rm</th>\n",
       "      <th>age</th>\n",
       "      <th>dis</th>\n",
       "      <th>rad</th>\n",
       "      <th>tax</th>\n",
       "      <th>ptratio</th>\n",
       "      <th>b</th>\n",
       "      <th>lstat</th>\n",
       "      <th>medv</th>\n",
       "    </tr>\n",
       "  </thead>\n",
       "  <tbody>\n",
       "    <tr>\n",
       "      <th>count</th>\n",
       "      <td>506.000000</td>\n",
       "      <td>506.000000</td>\n",
       "      <td>506.000000</td>\n",
       "      <td>506.000000</td>\n",
       "      <td>506.000000</td>\n",
       "      <td>506.000000</td>\n",
       "      <td>506.000000</td>\n",
       "      <td>506.000000</td>\n",
       "      <td>506.000000</td>\n",
       "      <td>506.000000</td>\n",
       "      <td>506.000000</td>\n",
       "      <td>506.000000</td>\n",
       "      <td>506.000000</td>\n",
       "      <td>506.000000</td>\n",
       "    </tr>\n",
       "    <tr>\n",
       "      <th>mean</th>\n",
       "      <td>3.613524</td>\n",
       "      <td>11.363636</td>\n",
       "      <td>11.136779</td>\n",
       "      <td>0.069170</td>\n",
       "      <td>0.554695</td>\n",
       "      <td>6.284634</td>\n",
       "      <td>68.574901</td>\n",
       "      <td>3.795043</td>\n",
       "      <td>9.549407</td>\n",
       "      <td>408.237154</td>\n",
       "      <td>18.455534</td>\n",
       "      <td>356.674032</td>\n",
       "      <td>12.653063</td>\n",
       "      <td>22.532806</td>\n",
       "    </tr>\n",
       "    <tr>\n",
       "      <th>std</th>\n",
       "      <td>8.601545</td>\n",
       "      <td>23.322453</td>\n",
       "      <td>6.860353</td>\n",
       "      <td>0.253994</td>\n",
       "      <td>0.115878</td>\n",
       "      <td>0.702617</td>\n",
       "      <td>28.148861</td>\n",
       "      <td>2.105710</td>\n",
       "      <td>8.707259</td>\n",
       "      <td>168.537116</td>\n",
       "      <td>2.164946</td>\n",
       "      <td>91.294864</td>\n",
       "      <td>7.141062</td>\n",
       "      <td>9.197104</td>\n",
       "    </tr>\n",
       "    <tr>\n",
       "      <th>min</th>\n",
       "      <td>0.006320</td>\n",
       "      <td>0.000000</td>\n",
       "      <td>0.460000</td>\n",
       "      <td>0.000000</td>\n",
       "      <td>0.385000</td>\n",
       "      <td>3.561000</td>\n",
       "      <td>2.900000</td>\n",
       "      <td>1.129600</td>\n",
       "      <td>1.000000</td>\n",
       "      <td>187.000000</td>\n",
       "      <td>12.600000</td>\n",
       "      <td>0.320000</td>\n",
       "      <td>1.730000</td>\n",
       "      <td>5.000000</td>\n",
       "    </tr>\n",
       "    <tr>\n",
       "      <th>25%</th>\n",
       "      <td>0.082045</td>\n",
       "      <td>0.000000</td>\n",
       "      <td>5.190000</td>\n",
       "      <td>0.000000</td>\n",
       "      <td>0.449000</td>\n",
       "      <td>5.885500</td>\n",
       "      <td>45.025000</td>\n",
       "      <td>2.100175</td>\n",
       "      <td>4.000000</td>\n",
       "      <td>279.000000</td>\n",
       "      <td>17.400000</td>\n",
       "      <td>375.377500</td>\n",
       "      <td>6.950000</td>\n",
       "      <td>17.025000</td>\n",
       "    </tr>\n",
       "    <tr>\n",
       "      <th>50%</th>\n",
       "      <td>0.256510</td>\n",
       "      <td>0.000000</td>\n",
       "      <td>9.690000</td>\n",
       "      <td>0.000000</td>\n",
       "      <td>0.538000</td>\n",
       "      <td>6.208500</td>\n",
       "      <td>77.500000</td>\n",
       "      <td>3.207450</td>\n",
       "      <td>5.000000</td>\n",
       "      <td>330.000000</td>\n",
       "      <td>19.050000</td>\n",
       "      <td>391.440000</td>\n",
       "      <td>11.360000</td>\n",
       "      <td>21.200000</td>\n",
       "    </tr>\n",
       "    <tr>\n",
       "      <th>75%</th>\n",
       "      <td>3.677082</td>\n",
       "      <td>12.500000</td>\n",
       "      <td>18.100000</td>\n",
       "      <td>0.000000</td>\n",
       "      <td>0.624000</td>\n",
       "      <td>6.623500</td>\n",
       "      <td>94.075000</td>\n",
       "      <td>5.188425</td>\n",
       "      <td>24.000000</td>\n",
       "      <td>666.000000</td>\n",
       "      <td>20.200000</td>\n",
       "      <td>396.225000</td>\n",
       "      <td>16.955000</td>\n",
       "      <td>25.000000</td>\n",
       "    </tr>\n",
       "    <tr>\n",
       "      <th>max</th>\n",
       "      <td>88.976200</td>\n",
       "      <td>100.000000</td>\n",
       "      <td>27.740000</td>\n",
       "      <td>1.000000</td>\n",
       "      <td>0.871000</td>\n",
       "      <td>8.780000</td>\n",
       "      <td>100.000000</td>\n",
       "      <td>12.126500</td>\n",
       "      <td>24.000000</td>\n",
       "      <td>711.000000</td>\n",
       "      <td>22.000000</td>\n",
       "      <td>396.900000</td>\n",
       "      <td>37.970000</td>\n",
       "      <td>50.000000</td>\n",
       "    </tr>\n",
       "  </tbody>\n",
       "</table>\n",
       "</div>"
      ],
      "text/plain": [
       "             crim          zn       indus        chas         nox          rm  \\\n",
       "count  506.000000  506.000000  506.000000  506.000000  506.000000  506.000000   \n",
       "mean     3.613524   11.363636   11.136779    0.069170    0.554695    6.284634   \n",
       "std      8.601545   23.322453    6.860353    0.253994    0.115878    0.702617   \n",
       "min      0.006320    0.000000    0.460000    0.000000    0.385000    3.561000   \n",
       "25%      0.082045    0.000000    5.190000    0.000000    0.449000    5.885500   \n",
       "50%      0.256510    0.000000    9.690000    0.000000    0.538000    6.208500   \n",
       "75%      3.677082   12.500000   18.100000    0.000000    0.624000    6.623500   \n",
       "max     88.976200  100.000000   27.740000    1.000000    0.871000    8.780000   \n",
       "\n",
       "              age         dis         rad         tax     ptratio           b  \\\n",
       "count  506.000000  506.000000  506.000000  506.000000  506.000000  506.000000   \n",
       "mean    68.574901    3.795043    9.549407  408.237154   18.455534  356.674032   \n",
       "std     28.148861    2.105710    8.707259  168.537116    2.164946   91.294864   \n",
       "min      2.900000    1.129600    1.000000  187.000000   12.600000    0.320000   \n",
       "25%     45.025000    2.100175    4.000000  279.000000   17.400000  375.377500   \n",
       "50%     77.500000    3.207450    5.000000  330.000000   19.050000  391.440000   \n",
       "75%     94.075000    5.188425   24.000000  666.000000   20.200000  396.225000   \n",
       "max    100.000000   12.126500   24.000000  711.000000   22.000000  396.900000   \n",
       "\n",
       "            lstat        medv  \n",
       "count  506.000000  506.000000  \n",
       "mean    12.653063   22.532806  \n",
       "std      7.141062    9.197104  \n",
       "min      1.730000    5.000000  \n",
       "25%      6.950000   17.025000  \n",
       "50%     11.360000   21.200000  \n",
       "75%     16.955000   25.000000  \n",
       "max     37.970000   50.000000  "
      ]
     },
     "execution_count": 3,
     "metadata": {},
     "output_type": "execute_result"
    }
   ],
   "source": [
    "df.describe()"
   ]
  },
  {
   "cell_type": "code",
   "execution_count": 4,
   "metadata": {},
   "outputs": [],
   "source": [
    "import seaborn as sns"
   ]
  },
  {
   "cell_type": "code",
   "execution_count": 5,
   "metadata": {},
   "outputs": [
    {
     "data": {
      "text/plain": [
       "<matplotlib.axes._subplots.AxesSubplot at 0x2b91c7335c0>"
      ]
     },
     "execution_count": 5,
     "metadata": {},
     "output_type": "execute_result"
    },
    {
     "data": {
      "image/png": "[encoded data removed]",
      "text/plain": [
       "<Figure size 432x288 with 1 Axes>"
      ]
     },
     "metadata": {
      "needs_background": "light"
     },
     "output_type": "display_data"
    }
   ],
   "source": [
    "sns.distplot(df['crim'])"
   ]
  },
  {
   "cell_type": "code",
   "execution_count": 6,
   "metadata": {},
   "outputs": [
    {
     "data": {
      "text/plain": [
       "22.532806324110677"
      ]
     },
     "execution_count": 6,
     "metadata": {},
     "output_type": "execute_result"
    }
   ],
   "source": [
    "X = df.iloc[:,:13].values #nem medv oszlopok\n",
    "Y = df.iloc[:,13].values #medv oszlop\n",
    "Y.mean()"
   ]
  },
  {
   "cell_type": "code",
   "execution_count": 7,
   "metadata": {},
   "outputs": [
    {
     "name": "stdout",
     "output_type": "stream",
     "text": [
      "TRAIN mean es std: 6.793542019435986e-17 1.0\n",
      "VALID mean es std: 3.177477913486406 9.069741278493064\n",
      "TEST mean es std: 1.5187721992475813 3.7276165295777224\n"
     ]
    }
   ],
   "source": [
    "#szokásos bemásolva\n",
    "valid_split=0.2\n",
    "test_split=0.1\n",
    "\n",
    "# train-validation-test minták különválasztása\n",
    "X_train = X[0:int(X.shape[0]*(1-valid_split-test_split))]\n",
    "Y_train = Y[0:int(X.shape[0]*(1-valid_split-test_split))]\n",
    "X_valid = X[int(X.shape[0]*(1-valid_split-test_split)):int(X.shape[0]*(1-test_split))]\n",
    "Y_valid = Y[int(X.shape[0]*(1-valid_split-test_split)):int(X.shape[0]*(1-test_split))]\n",
    "X_test  = X[int(X.shape[0]*(1-test_split)):]\n",
    "Y_test  = Y[int(X.shape[0]*(1-test_split)):]\n",
    "\n",
    "# standardizálás\n",
    "scaler = StandardScaler().fit(X_train)\n",
    "X_train = scaler.transform(X_train)\n",
    "X_valid = scaler.transform(X_valid)\n",
    "X_test  = scaler.transform(X_test)\n",
    "\n",
    "print(\"TRAIN mean es std:\",np.mean(X_train), np.std(X_train))\n",
    "print(\"VALID mean es std:\",np.mean(X_valid), np.std(X_valid))\n",
    "print(\"TEST mean es std:\",np.mean(X_test), np.std(X_test))"
   ]
  },
  {
   "cell_type": "code",
   "execution_count": 68,
   "metadata": {},
   "outputs": [
    {
     "name": "stdout",
     "output_type": "stream",
     "text": [
      "WARNING:tensorflow:Large dropout rate: 0.9 (>0.5). In TensorFlow 2.x, dropout() uses dropout rate instead of keep_prob. Please ensure that this is intended.\n"
     ]
    }
   ],
   "source": [
    "es = EarlyStopping(patience=10, verbose=1)\n",
    "mcp = ModelCheckpoint(filepath='model_boston.hdf5', save_best_only=True, verbose=1)\n",
    "\n",
    "model = Sequential()\n",
    "model.add(Dropout(0.9, input_shape=(X.shape[1],)))\n",
    "model.add(Dense(200))#, input_dim = X.shape[1]))\n",
    "model.add(Activation('sigmoid'))\n",
    "model.add(Dropout(0.5))\n",
    "#model.add(Dense(100, activation='sigmoid'))\n",
    "#model.add(Dropout(0.5))\n",
    "model.add(Dense(1))\n",
    "#model.add(Activation('sigmoid')) #elrontja a kimenetet\n",
    "\n",
    "adam = Adam(lr=0.001)\n",
    "model.compile(loss='mse', optimizer=adam)"
   ]
  },
  {
   "cell_type": "code",
   "execution_count": 69,
   "metadata": {},
   "outputs": [
    {
     "name": "stdout",
     "output_type": "stream",
     "text": [
      "Model: \"sequential_13\"\n",
      "_________________________________________________________________\n",
      "Layer (type)                 Output Shape              Param #   \n",
      "=================================================================\n",
      "dropout_9 (Dropout)          (None, 13)                0         \n",
      "_________________________________________________________________\n",
      "dense_20 (Dense)             (None, 200)               2800      \n",
      "_________________________________________________________________\n",
      "activation_12 (Activation)   (None, 200)               0         \n",
      "_________________________________________________________________\n",
      "dropout_10 (Dropout)         (None, 200)               0         \n",
      "_________________________________________________________________\n",
      "dense_21 (Dense)             (None, 1)                 201       \n",
      "=================================================================\n",
      "Total params: 3,001\n",
      "Trainable params: 3,001\n",
      "Non-trainable params: 0\n",
      "_________________________________________________________________\n"
     ]
    }
   ],
   "source": [
    "model.summary()"
   ]
  },
  {
   "cell_type": "code",
   "execution_count": 70,
   "metadata": {},
   "outputs": [
    {
     "name": "stdout",
     "output_type": "stream",
     "text": [
      "Train on 354 samples, validate on 101 samples\n",
      "Epoch 1/1000000000000\n",
      "354/354 [==============================] - 1s 2ms/step - loss: 720.6106 - val_loss: 325.3551\n",
      "\n",
      "Epoch 00001: val_loss improved from inf to 325.35513, saving model to model_boston.hdf5\n",
      "Epoch 2/1000000000000\n",
      "354/354 [==============================] - 0s 227us/step - loss: 601.2621 - val_loss: 271.4841\n",
      "\n",
      "Epoch 00002: val_loss improved from 325.35513 to 271.48408, saving model to model_boston.hdf5\n",
      "Epoch 3/1000000000000\n",
      "354/354 [==============================] - 0s 185us/step - loss: 510.3994 - val_loss: 226.6703\n",
      "\n",
      "Epoch 00003: val_loss improved from 271.48408 to 226.67029, saving model to model_boston.hdf5\n",
      "Epoch 4/1000000000000\n",
      "354/354 [==============================] - 0s 185us/step - loss: 427.6495 - val_loss: 193.5606\n",
      "\n",
      "Epoch 00004: val_loss improved from 226.67029 to 193.56055, saving model to model_boston.hdf5\n",
      "Epoch 5/1000000000000\n",
      "354/354 [==============================] - 0s 181us/step - loss: 353.4700 - val_loss: 163.4295\n",
      "\n",
      "Epoch 00005: val_loss improved from 193.56055 to 163.42947, saving model to model_boston.hdf5\n",
      "Epoch 6/1000000000000\n",
      "354/354 [==============================] - 0s 196us/step - loss: 291.9256 - val_loss: 143.5499\n",
      "\n",
      "Epoch 00006: val_loss improved from 163.42947 to 143.54994, saving model to model_boston.hdf5\n",
      "Epoch 7/1000000000000\n",
      "354/354 [==============================] - 0s 176us/step - loss: 240.7411 - val_loss: 128.6223\n",
      "\n",
      "Epoch 00007: val_loss improved from 143.54994 to 128.62226, saving model to model_boston.hdf5\n",
      "Epoch 8/1000000000000\n",
      "354/354 [==============================] - 0s 203us/step - loss: 195.5493 - val_loss: 116.6075\n",
      "\n",
      "Epoch 00008: val_loss improved from 128.62226 to 116.60755, saving model to model_boston.hdf5\n",
      "Epoch 9/1000000000000\n",
      "354/354 [==============================] - 0s 203us/step - loss: 160.9511 - val_loss: 105.9441\n",
      "\n",
      "Epoch 00009: val_loss improved from 116.60755 to 105.94406, saving model to model_boston.hdf5\n",
      "Epoch 10/1000000000000\n",
      "354/354 [==============================] - 0s 188us/step - loss: 134.6527 - val_loss: 94.6102\n",
      "\n",
      "Epoch 00010: val_loss improved from 105.94406 to 94.61017, saving model to model_boston.hdf5\n",
      "Epoch 11/1000000000000\n",
      "354/354 [==============================] - 0s 215us/step - loss: 116.9620 - val_loss: 88.5546\n",
      "\n",
      "Epoch 00011: val_loss improved from 94.61017 to 88.55459, saving model to model_boston.hdf5\n",
      "Epoch 12/1000000000000\n",
      "354/354 [==============================] - 0s 184us/step - loss: 106.9993 - val_loss: 85.3459\n",
      "\n",
      "Epoch 00012: val_loss improved from 88.55459 to 85.34592, saving model to model_boston.hdf5\n",
      "Epoch 13/1000000000000\n",
      "354/354 [==============================] - 0s 224us/step - loss: 82.8547 - val_loss: 83.1074\n",
      "\n",
      "Epoch 00013: val_loss improved from 85.34592 to 83.10743, saving model to model_boston.hdf5\n",
      "Epoch 14/1000000000000\n",
      "354/354 [==============================] - 0s 148us/step - loss: 82.0871 - val_loss: 81.9708\n",
      "\n",
      "Epoch 00014: val_loss improved from 83.10743 to 81.97081, saving model to model_boston.hdf5\n",
      "Epoch 15/1000000000000\n",
      "354/354 [==============================] - 0s 237us/step - loss: 75.2910 - val_loss: 81.3194\n",
      "\n",
      "Epoch 00015: val_loss improved from 81.97081 to 81.31943, saving model to model_boston.hdf5\n",
      "Epoch 16/1000000000000\n",
      "354/354 [==============================] - 0s 232us/step - loss: 72.7311 - val_loss: 80.8614\n",
      "\n",
      "Epoch 00016: val_loss improved from 81.31943 to 80.86136, saving model to model_boston.hdf5\n",
      "Epoch 17/1000000000000\n",
      "354/354 [==============================] - 0s 220us/step - loss: 71.1000 - val_loss: 82.0403\n",
      "\n",
      "Epoch 00017: val_loss did not improve from 80.86136\n",
      "Epoch 18/1000000000000\n",
      "354/354 [==============================] - 0s 220us/step - loss: 68.0202 - val_loss: 84.2842\n",
      "\n",
      "Epoch 00018: val_loss did not improve from 80.86136\n",
      "Epoch 19/1000000000000\n",
      "354/354 [==============================] - 0s 217us/step - loss: 66.6330 - val_loss: 84.7706\n",
      "\n",
      "Epoch 00019: val_loss did not improve from 80.86136\n",
      "Epoch 20/1000000000000\n",
      "354/354 [==============================] - 0s 223us/step - loss: 68.9442 - val_loss: 86.7260\n",
      "\n",
      "Epoch 00020: val_loss did not improve from 80.86136\n",
      "Epoch 21/1000000000000\n",
      "354/354 [==============================] - 0s 243us/step - loss: 66.5799 - val_loss: 87.6035\n",
      "\n",
      "Epoch 00021: val_loss did not improve from 80.86136\n",
      "Epoch 22/1000000000000\n",
      "354/354 [==============================] - 0s 240us/step - loss: 66.8398 - val_loss: 87.4981\n",
      "\n",
      "Epoch 00022: val_loss did not improve from 80.86136\n",
      "Epoch 23/1000000000000\n",
      "354/354 [==============================] - 0s 218us/step - loss: 65.4790 - val_loss: 86.7895\n",
      "\n",
      "Epoch 00023: val_loss did not improve from 80.86136\n",
      "Epoch 24/1000000000000\n",
      "354/354 [==============================] - 0s 200us/step - loss: 63.1329 - val_loss: 88.5310\n",
      "\n",
      "Epoch 00024: val_loss did not improve from 80.86136\n",
      "Epoch 25/1000000000000\n",
      "354/354 [==============================] - 0s 218us/step - loss: 64.6951 - val_loss: 93.1998\n",
      "\n",
      "Epoch 00025: val_loss did not improve from 80.86136\n",
      "Epoch 26/1000000000000\n",
      "354/354 [==============================] - 0s 228us/step - loss: 63.0255 - val_loss: 95.4533\n",
      "\n",
      "Epoch 00026: val_loss did not improve from 80.86136\n",
      "Epoch 00026: early stopping\n"
     ]
    },
    {
     "data": {
      "text/plain": [
       "<keras.callbacks.callbacks.History at 0x2b92d316b00>"
      ]
     },
     "execution_count": 70,
     "metadata": {},
     "output_type": "execute_result"
    }
   ],
   "source": [
    "model.fit(X_train, Y_train, validation_data = (X_valid,Y_valid), epochs = 1000000000000, batch_size = 16, callbacks=[mcp,es])"
   ]
  },
  {
   "cell_type": "code",
   "execution_count": 71,
   "metadata": {},
   "outputs": [
    {
     "name": "stdout",
     "output_type": "stream",
     "text": [
      "WARNING:tensorflow:Large dropout rate: 0.9 (>0.5). In TensorFlow 2.x, dropout() uses dropout rate instead of keep_prob. Please ensure that this is intended.\n"
     ]
    }
   ],
   "source": [
    "model = load_model('model_boston.hdf5')"
   ]
  },
  {
   "cell_type": "code",
   "execution_count": 72,
   "metadata": {},
   "outputs": [
    {
     "name": "stdout",
     "output_type": "stream",
     "text": [
      "51/51 [==============================] - 0s 9ms/step\n",
      "Test MSE:  13.460069581574084\n"
     ]
    }
   ],
   "source": [
    "test_err = model.evaluate(X_test, Y_test)\n",
    "print(\"Test MSE: \", test_err)"
   ]
  },
  {
   "cell_type": "code",
   "execution_count": 73,
   "metadata": {},
   "outputs": [
    {
     "data": {
      "text/plain": [
       "[(10, 30), (10, 30)]"
      ]
     },
     "execution_count": 73,
     "metadata": {},
     "output_type": "execute_result"
    },
    {
     "data": {
      "image/png": "[encoded data removed]",
      "text/plain": [
       "<Figure size 720x720 with 1 Axes>"
      ]
     },
     "metadata": {
      "needs_background": "light"
     },
     "output_type": "display_data"
    }
   ],
   "source": [
    "preds = model.predict(X_test)\n",
    "plt.figure(figsize = (10,10))\n",
    "sns.regplot(x=Y_test, y=preds.reshape(-1)).set(xlim = (10,30), ylim = (10,30)) # mennyire korelál a predikált és a valós"
   ]
  },
  {
   "cell_type": "code",
   "execution_count": 74,
   "metadata": {},
   "outputs": [],
   "source": [
    "preds_mean = np.mean(Y_train)"
   ]
  },
  {
   "cell_type": "code",
   "execution_count": 75,
   "metadata": {},
   "outputs": [
    {
     "name": "stdout",
     "output_type": "stream",
     "text": [
      "25.05593220338983\n"
     ]
    }
   ],
   "source": [
    "print(preds_mean)"
   ]
  },
  {
   "cell_type": "code",
   "execution_count": 76,
   "metadata": {},
   "outputs": [],
   "source": [
    "from sklearn.metrics import mean_squared_error\n",
    "err_mean_train = mean_squared_error(Y_train, preds_mean * np.ones(Y_train.shape[0]))\n",
    "err_mean_valid = mean_squared_error(Y_valid, preds_mean * np.ones(Y_valid.shape[0]))\n",
    "err_mean_test = mean_squared_error(Y_test, preds_mean * np.ones(Y_test.shape[0]))"
   ]
  },
  {
   "cell_type": "code",
   "execution_count": 77,
   "metadata": {},
   "outputs": [
    {
     "name": "stdout",
     "output_type": "stream",
     "text": [
      "Mean predikció MSE TRAIN: 70.98721057167481\n",
      "Mean predikció MSE VALID: 176.18159459697762\n",
      "Mean predikció MSE TEST: 59.09335107671335\n"
     ]
    }
   ],
   "source": [
    "print(\"Mean predikció MSE TRAIN:\",err_mean_train)\n",
    "print(\"Mean predikció MSE VALID:\",err_mean_valid)\n",
    "print(\"Mean predikció MSE TEST:\",err_mean_test)"
   ]
  },
  {
   "cell_type": "code",
   "execution_count": null,
   "metadata": {},
   "outputs": [],
   "source": []
  }
 ],
 "metadata": {
  "kernelspec": {
   "display_name": "Python 3",
   "language": "python",
   "name": "python3"
  },
  "language_info": {
   "codemirror_mode": {
    "name": "ipython",
    "version": 3
   },
   "file_extension": ".py",
   "mimetype": "text/x-python",
   "name": "python",
   "nbconvert_exporter": "python",
   "pygments_lexer": "ipython3",
   "version": "3.7.3"
  }
 },
 "nbformat": 4,
 "nbformat_minor": 2
}
