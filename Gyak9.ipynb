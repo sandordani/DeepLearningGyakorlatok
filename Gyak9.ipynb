{
 "cells": [
  {
   "cell_type": "code",
   "execution_count": 1,
   "metadata": {},
   "outputs": [
    {
     "name": "stdout",
     "output_type": "stream",
     "text": [
      "Number of read words: 400000\n"
     ]
    }
   ],
   "source": [
    "import numpy as np\n",
    "words = set()\n",
    "vectors = {}\n",
    "with open('glove.6B.50d.txt', 'r', encoding=\"utf8\", errors='ignore') as f:\n",
    "    for line in f:\n",
    "        line = line.strip().split()\n",
    "        cword = line[0]\n",
    "    \n",
    "        try:\n",
    "            v= np.array(line[1:], dtype=np.float64)\n",
    "            if v.shape[0] == 50:\n",
    "                vectors[cword]=v\n",
    "                words.add(cword)\n",
    "            else:\n",
    "                print(\"Error in line: {}\".format(line))\n",
    "        except:\n",
    "            print(\"Error in line: {}\".format(line))\n",
    "print(\"Number of read words: {}\".format(len(words)))"
   ]
  },
  {
   "cell_type": "code",
   "execution_count": 2,
   "metadata": {},
   "outputs": [
    {
     "data": {
      "text/plain": [
       "array([-0.75898 , -0.47426 ,  0.4737  ,  0.7725  , -0.78064 ,  0.23233 ,\n",
       "        0.046114,  0.84014 ,  0.24371 ,  0.022978,  0.53964 , -0.36101 ,\n",
       "        0.94198 , -0.08498 , -0.17095 ,  0.52358 ,  0.38773 , -0.90057 ,\n",
       "       -0.052854,  0.64844 , -0.28436 , -0.58268 ,  0.47154 , -0.15341 ,\n",
       "        0.56085 ,  1.7462  ,  1.5916  , -0.60234 ,  0.60964 ,  0.83124 ,\n",
       "       -1.1914  ,  0.093531,  0.33981 ,  0.23403 , -0.61819 , -0.68542 ,\n",
       "        0.25952 , -0.27869 ,  0.035413,  0.58834 ,  0.45439 , -0.84254 ,\n",
       "        0.1065  , -0.059397,  0.090449,  0.30581 , -0.61424 ,  0.78954 ,\n",
       "       -0.014116,  0.6448  ])"
      ]
     },
     "execution_count": 2,
     "metadata": {},
     "output_type": "execute_result"
    }
   ],
   "source": [
    "vectors['zsombor']"
   ]
  },
  {
   "cell_type": "code",
   "execution_count": 3,
   "metadata": {},
   "outputs": [],
   "source": [
    "def find_similar_word(word):\n",
    "    word = word.lower()\n",
    "    v1 = vectors[word]\n",
    "    top = 5\n",
    "    max_sim = np.ones(top)*-200\n",
    "    mwords = np.chararray(top, itemsize=20, unicode=True)\n",
    "    mwords[:] = None\n",
    "\n",
    "    # cos hasonlosag\n",
    "    u = np.sqrt(np.sum(np.square(v1)))\n",
    "\n",
    "    for w in words:\n",
    "        if w in word: \n",
    "            continue\n",
    "        vm = vectors[w]\n",
    "        uv = np.dot(v1,vm)\n",
    "        v  = np.sqrt(np.sum(np.square(vm)))\n",
    "\n",
    "        cos_sim = uv/(u*v)\n",
    "\n",
    "        for i in range(top):\n",
    "            if cos_sim > max_sim[i]:\n",
    "                for j in range(top-1,i,-1):\n",
    "                    max_sim[j] = max_sim[j-1]\n",
    "                    mwords[j]  = mwords [j-1]\n",
    "                mwords[i] = w\n",
    "                max_sim[i] = cos_sim\n",
    "                break\n",
    "\n",
    "    return mwords,max_sim"
   ]
  },
  {
   "cell_type": "code",
   "execution_count": 4,
   "metadata": {},
   "outputs": [
    {
     "name": "stdout",
     "output_type": "stream",
     "text": [
      "['euro' 'currency' 'dollars' 'greenback' 'price']\n",
      "[0.82643291 0.81990801 0.78832095 0.7816785  0.78095334]\n"
     ]
    }
   ],
   "source": [
    "mwords,max=find_similar_word(\"dollar\")\n",
    "print(mwords)\n",
    "print(max)"
   ]
  },
  {
   "cell_type": "code",
   "execution_count": 5,
   "metadata": {},
   "outputs": [],
   "source": [
    "def find_analogy(word1, word2, word3):\n",
    "    word1=word1.lower()\n",
    "    word2=word2.lower()\n",
    "    word3=word3.lower()\n",
    "    \n",
    "    v1=vectors[word1]\n",
    "    v2=vectors[word2]\n",
    "    v3=vectors[word3]\n",
    "    \n",
    "    top = 5 \n",
    "    max= np.ones(top)* -200\n",
    "    mwords= np.chararray(top,itemsize=20,unicode=True)\n",
    "    mwords[:]= None\n",
    "    \n",
    "    #cos similarity\n",
    "    v21= v2 - v1\n",
    "    \n",
    "    u = np.sqrt(np.sum(np.square(v21)))\n",
    "    \n",
    "    for w in words:        \n",
    "        if w in [word1, word2, word3] :\n",
    "            continue\n",
    "       \n",
    "        vm=vectors[w] -v3\n",
    "        uv = np.dot(v21,vm)\n",
    "        v = np.sqrt(np.sum(np.square(vm)))\n",
    "        cosine_sim=  uv/(u*v)\n",
    "    \n",
    "        \n",
    "        for i in range(top):\n",
    "            if cosine_sim > max[i]:\n",
    "                for j in range(top-1,i,-1):\n",
    "                    max[j]=max[j-1]\n",
    "                    mwords[j]=mwords[j-1]\n",
    "                #print(w)\n",
    "                mwords[i]=w\n",
    "                max[i]=cosine_sim\n",
    "                break\n",
    "            \n",
    "        \n",
    "    return mwords,max"
   ]
  },
  {
   "cell_type": "code",
   "execution_count": 6,
   "metadata": {},
   "outputs": [],
   "source": [
    "def find_and_print_analogy(w1,w2,w3):\n",
    "    print(\"Find analogy: {} - {} + {} =\".format(w1,w2,w3))\n",
    "    top5_words,values=find_analogy(w1,w2,w3)\n",
    "\n",
    "    for i, w in enumerate(top5_words):\n",
    "        print(\"{}. {:6.4f} : {}\".format(i,values[i],w))"
   ]
  },
  {
   "cell_type": "code",
   "execution_count": 7,
   "metadata": {},
   "outputs": [
    {
     "name": "stdout",
     "output_type": "stream",
     "text": [
      "Find analogy: Hungary - Budapest + France =\n",
      "0. 0.8359 : paris\n",
      "1. 0.6663 : ecole\n",
      "2. 0.6548 : polytechnique\n",
      "3. 0.6409 : école\n",
      "4. 0.6311 : beaux-arts\n"
     ]
    }
   ],
   "source": [
    "find_and_print_analogy(\"Hungary\",\"Budapest\",\"France\")"
   ]
  },
  {
   "cell_type": "code",
   "execution_count": 8,
   "metadata": {},
   "outputs": [
    {
     "name": "stdout",
     "output_type": "stream",
     "text": [
      "Find analogy: king - man + queen =\n",
      "0. 0.8397 : woman\n",
      "1. 0.7796 : girl\n",
      "2. 0.7039 : blonde\n",
      "3. 0.6951 : boy\n",
      "4. 0.6907 : blond\n"
     ]
    }
   ],
   "source": [
    "find_and_print_analogy('king','man','queen')"
   ]
  },
  {
   "cell_type": "code",
   "execution_count": null,
   "metadata": {},
   "outputs": [],
   "source": []
  }
 ],
 "metadata": {
  "kernelspec": {
   "display_name": "Python 3",
   "language": "python",
   "name": "python3"
  },
  "language_info": {
   "codemirror_mode": {
    "name": "ipython",
    "version": 3
   },
   "file_extension": ".py",
   "mimetype": "text/x-python",
   "name": "python",
   "nbconvert_exporter": "python",
   "pygments_lexer": "ipython3",
   "version": "3.7.3"
  }
 },
 "nbformat": 4,
 "nbformat_minor": 2
}
