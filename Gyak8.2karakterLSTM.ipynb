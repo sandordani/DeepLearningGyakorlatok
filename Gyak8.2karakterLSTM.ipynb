{
 "cells": [
  {
   "cell_type": "code",
   "execution_count": 1,
   "metadata": {},
   "outputs": [
    {
     "name": "stderr",
     "output_type": "stream",
     "text": [
      "Using TensorFlow backend.\n"
     ]
    }
   ],
   "source": [
    "from keras.models import Sequential\n",
    "from keras.layers import Dense, Activation, Dropout, LSTM\n",
    "import numpy as np\n",
    "import sys\n",
    "import random\n",
    "import re, cgi"
   ]
  },
  {
   "cell_type": "code",
   "execution_count": 2,
   "metadata": {},
   "outputs": [],
   "source": [
    "text = open(\"kisherceg.txt\", encoding='ansi').read().lower()"
   ]
  },
  {
   "cell_type": "code",
   "execution_count": 3,
   "metadata": {},
   "outputs": [
    {
     "data": {
      "text/plain": [
       "'antoine de saint-exupéry\\n\\na kis herceg\\n\\n\\nfordította: rónay györgy\\n\\n\\n\\nléon werth-nek\\n\\nkérem a gyereke'"
      ]
     },
     "execution_count": 3,
     "metadata": {},
     "output_type": "execute_result"
    }
   ],
   "source": [
    "text[:100]"
   ]
  },
  {
   "cell_type": "code",
   "execution_count": 4,
   "metadata": {},
   "outputs": [
    {
     "name": "stdout",
     "output_type": "stream",
     "text": [
      "Szoveg hossza: 81166\n"
     ]
    }
   ],
   "source": [
    "print(\"Szoveg hossza:\",len(text))"
   ]
  },
  {
   "cell_type": "code",
   "execution_count": 5,
   "metadata": {},
   "outputs": [
    {
     "name": "stdout",
     "output_type": "stream",
     "text": [
      "Elofordulo karakterek: ['\\n', ' ', '!', '\"', '(', ')', ',', '-', '.', '0', '1', '2', '3', '4', '5', '6', '7', '8', '9', ':', ';', '?', 'a', 'b', 'c', 'd', 'e', 'f', 'g', 'h', 'i', 'j', 'k', 'l', 'm', 'n', 'o', 'p', 'r', 's', 't', 'u', 'v', 'w', 'x', 'y', 'z', 'á', 'é', 'í', 'ó', 'ö', 'ú', 'ü', 'ő', 'ű']\n"
     ]
    }
   ],
   "source": [
    "chars = sorted(list(set(text)))\n",
    "print(\"Elofordulo karakterek:\",chars)"
   ]
  },
  {
   "cell_type": "code",
   "execution_count": 6,
   "metadata": {},
   "outputs": [
    {
     "name": "stdout",
     "output_type": "stream",
     "text": [
      "Karakterek szama: 56\n"
     ]
    }
   ],
   "source": [
    "print(\"Karakterek szama:\", len(chars))"
   ]
  },
  {
   "cell_type": "code",
   "execution_count": 7,
   "metadata": {},
   "outputs": [],
   "source": [
    "char_indices = dict((c,i) for i,c in enumerate(chars))\n",
    "indices_char = dict((i,c) for i,c in enumerate(chars))"
   ]
  },
  {
   "cell_type": "code",
   "execution_count": 8,
   "metadata": {},
   "outputs": [
    {
     "name": "stdout",
     "output_type": "stream",
     "text": [
      "{'\\n': 0, ' ': 1, '!': 2, '\"': 3, '(': 4, ')': 5, ',': 6, '-': 7, '.': 8, '0': 9, '1': 10, '2': 11, '3': 12, '4': 13, '5': 14, '6': 15, '7': 16, '8': 17, '9': 18, ':': 19, ';': 20, '?': 21, 'a': 22, 'b': 23, 'c': 24, 'd': 25, 'e': 26, 'f': 27, 'g': 28, 'h': 29, 'i': 30, 'j': 31, 'k': 32, 'l': 33, 'm': 34, 'n': 35, 'o': 36, 'p': 37, 'r': 38, 's': 39, 't': 40, 'u': 41, 'v': 42, 'w': 43, 'x': 44, 'y': 45, 'z': 46, 'á': 47, 'é': 48, 'í': 49, 'ó': 50, 'ö': 51, 'ú': 52, 'ü': 53, 'ő': 54, 'ű': 55}\n",
      "{0: '\\n', 1: ' ', 2: '!', 3: '\"', 4: '(', 5: ')', 6: ',', 7: '-', 8: '.', 9: '0', 10: '1', 11: '2', 12: '3', 13: '4', 14: '5', 15: '6', 16: '7', 17: '8', 18: '9', 19: ':', 20: ';', 21: '?', 22: 'a', 23: 'b', 24: 'c', 25: 'd', 26: 'e', 27: 'f', 28: 'g', 29: 'h', 30: 'i', 31: 'j', 32: 'k', 33: 'l', 34: 'm', 35: 'n', 36: 'o', 37: 'p', 38: 'r', 39: 's', 40: 't', 41: 'u', 42: 'v', 43: 'w', 44: 'x', 45: 'y', 46: 'z', 47: 'á', 48: 'é', 49: 'í', 50: 'ó', 51: 'ö', 52: 'ú', 53: 'ü', 54: 'ő', 55: 'ű'}\n"
     ]
    }
   ],
   "source": [
    "print(char_indices)\n",
    "print(indices_char)"
   ]
  },
  {
   "cell_type": "code",
   "execution_count": 9,
   "metadata": {},
   "outputs": [
    {
     "data": {
      "text/plain": [
       "'d'"
      ]
     },
     "execution_count": 9,
     "metadata": {},
     "output_type": "execute_result"
    }
   ],
   "source": [
    "indices_char[25]"
   ]
  },
  {
   "cell_type": "code",
   "execution_count": 10,
   "metadata": {},
   "outputs": [
    {
     "data": {
      "text/plain": [
       "25"
      ]
     },
     "execution_count": 10,
     "metadata": {},
     "output_type": "execute_result"
    }
   ],
   "source": [
    "char_indices['d']"
   ]
  },
  {
   "cell_type": "code",
   "execution_count": 11,
   "metadata": {},
   "outputs": [],
   "source": [
    "# tanito adatok osszerakasa\n",
    "window_length = 40\n",
    "step = 3\n",
    "sentences = []\n",
    "next_chars = []\n",
    "\n",
    "for i in range(0, len(text)-window_length, step):\n",
    "    sentences.append(text[i:i+window_length])\n",
    "    next_chars.append(text[i+window_length])"
   ]
  },
  {
   "cell_type": "code",
   "execution_count": 12,
   "metadata": {},
   "outputs": [
    {
     "data": {
      "text/plain": [
       "'léon werth-nek\\n\\nkérem a gyerekeket, ne h'"
      ]
     },
     "execution_count": 12,
     "metadata": {},
     "output_type": "execute_result"
    }
   ],
   "source": [
    "sentences[23]"
   ]
  },
  {
   "cell_type": "code",
   "execution_count": 13,
   "metadata": {},
   "outputs": [
    {
     "data": {
      "text/plain": [
       "'a'"
      ]
     },
     "execution_count": 13,
     "metadata": {},
     "output_type": "execute_result"
    }
   ],
   "source": [
    "next_chars[23]"
   ]
  },
  {
   "cell_type": "code",
   "execution_count": 14,
   "metadata": {},
   "outputs": [
    {
     "name": "stdout",
     "output_type": "stream",
     "text": [
      "Tanito mintak:  27042\n"
     ]
    }
   ],
   "source": [
    "print('Tanito mintak: ', len(sentences))"
   ]
  },
  {
   "cell_type": "code",
   "execution_count": 15,
   "metadata": {},
   "outputs": [],
   "source": [
    "# numerikus be es kimenetek (one hot vektorok)\n",
    "X = np.zeros((len(sentences), window_length, len(chars)))\n",
    "Y = np.zeros((len(sentences), len(chars)))\n",
    "\n",
    "for i, sentence in enumerate(sentences):\n",
    "    for t, char in enumerate(sentence):\n",
    "        X[i,t,char_indices[char]] = 1\n",
    "    Y[i, char_indices[next_chars[i]]] = 1"
   ]
  },
  {
   "cell_type": "code",
   "execution_count": 16,
   "metadata": {},
   "outputs": [
    {
     "data": {
      "text/plain": [
       "(27042, 40, 56)"
      ]
     },
     "execution_count": 16,
     "metadata": {},
     "output_type": "execute_result"
    }
   ],
   "source": [
    "X.shape"
   ]
  },
  {
   "cell_type": "code",
   "execution_count": 17,
   "metadata": {},
   "outputs": [],
   "source": [
    "model = Sequential()\n",
    "model.add(LSTM(128, input_shape = (X.shape[1], X.shape[2], )))\n",
    "model.add(Dense(len(chars), activation = 'softmax'))"
   ]
  },
  {
   "cell_type": "code",
   "execution_count": 18,
   "metadata": {},
   "outputs": [
    {
     "name": "stdout",
     "output_type": "stream",
     "text": [
      "Model: \"sequential_1\"\n",
      "_________________________________________________________________\n",
      "Layer (type)                 Output Shape              Param #   \n",
      "=================================================================\n",
      "lstm_1 (LSTM)                (None, 128)               94720     \n",
      "_________________________________________________________________\n",
      "dense_1 (Dense)              (None, 56)                7224      \n",
      "=================================================================\n",
      "Total params: 101,944\n",
      "Trainable params: 101,944\n",
      "Non-trainable params: 0\n",
      "_________________________________________________________________\n"
     ]
    }
   ],
   "source": [
    "model.summary()"
   ]
  },
  {
   "cell_type": "code",
   "execution_count": 19,
   "metadata": {},
   "outputs": [],
   "source": [
    "model.compile(loss='categorical_crossentropy', optimizer='rmsprop')"
   ]
  },
  {
   "cell_type": "code",
   "execution_count": 20,
   "metadata": {},
   "outputs": [],
   "source": [
    "def sample(preds, temperature=1.0):\n",
    "    preds = np.asarray(preds).astype('float64')\n",
    "    preds = np.log(preds) / temperature\n",
    "    exp_preds = np.exp(preds)\n",
    "    preds = exp_preds / np.sum(exp_preds)\n",
    "    probas = np.random.multinomial(1,preds,1)\n",
    "\n",
    "    return np.argmax(probas),preds\n"
   ]
  },
  {
   "cell_type": "code",
   "execution_count": 21,
   "metadata": {},
   "outputs": [
    {
     "name": "stdout",
     "output_type": "stream",
     "text": [
      "[0.1, 0.2, 0.3, 0.15, 0.25]\n",
      "[1.43537082e-05 1.46981972e-02 8.47572114e-01 8.27707142e-04\n",
      " 1.36887628e-01]\n",
      "2\n",
      "[0.1, 0.2, 0.3, 0.15, 0.25]\n",
      "[0.04444444 0.17777778 0.4        0.1        0.27777778]\n",
      "2\n",
      "[0.1, 0.2, 0.3, 0.15, 0.25]\n",
      "[0.1  0.2  0.3  0.15 0.25]\n",
      "2\n",
      "[0.1, 0.2, 0.3, 0.15, 0.25]\n",
      "[0.12787934 0.2029958  0.26599975 0.16756934 0.23555576]\n",
      "2\n",
      "[0.1, 0.2, 0.3, 0.15, 0.25]\n",
      "[0.14384043 0.20342109 0.24913894 0.17616783 0.2274317 ]\n",
      "1\n"
     ]
    }
   ],
   "source": [
    "fake_preds = [0.1, 0.2, 0.3, 0.15, 0.25]\n",
    "\n",
    "for temp in [0.1,0.5,1,1.5,2]:\n",
    "    print(fake_preds)\n",
    "    proba,preds = sample(fake_preds,temp)\n",
    "    print(preds)\n",
    "    print(proba)\n"
   ]
  },
  {
   "cell_type": "code",
   "execution_count": 22,
   "metadata": {},
   "outputs": [
    {
     "name": "stdout",
     "output_type": "stream",
     "text": [
      "4\n",
      "4\n",
      "2\n",
      "4\n",
      "4\n",
      "2\n",
      "2\n",
      "2\n",
      "2\n",
      "4\n",
      "2\n",
      "2\n",
      "2\n",
      "2\n",
      "2\n",
      "2\n",
      "2\n",
      "2\n",
      "2\n",
      "2\n",
      "2\n",
      "2\n",
      "2\n",
      "2\n",
      "2\n",
      "2\n",
      "2\n",
      "2\n",
      "2\n",
      "2\n",
      "2\n",
      "2\n",
      "4\n",
      "2\n",
      "2\n",
      "2\n",
      "2\n",
      "2\n",
      "2\n",
      "4\n"
     ]
    }
   ],
   "source": [
    "for i in range(40):\n",
    "    proba,preds = sample(fake_preds,0.1)\n",
    "    print(proba)"
   ]
  },
  {
   "cell_type": "code",
   "execution_count": 23,
   "metadata": {},
   "outputs": [
    {
     "name": "stdout",
     "output_type": "stream",
     "text": [
      "Epoch 1/4\n",
      "27042/27042 [==============================] - 14s 518us/step - loss: 3.2465\n",
      "Epoch 2/4\n",
      "27042/27042 [==============================] - 12s 429us/step - loss: 3.0830\n",
      "Epoch 3/4\n",
      "27042/27042 [==============================] - 12s 428us/step - loss: 2.8654\n",
      "Epoch 4/4\n",
      "27042/27042 [==============================] - 12s 426us/step - loss: 2.6665\n",
      "A kovetkezo mondatot fogjuk folytatni: léon werth-nek\n",
      "\n",
      "kérem a gyerekeket, ne h\n",
      "temp: 0.1\n",
      "egy egy egyeret eg ezemeg eet egy meremet e eete ee eeg eege eeg egy megy egy egy mereg ee eeg ee eege eet egy mer egy megy egy megyel egy merelet e eege ee ee eeg eg egyet egy megy meret ee ee eeg ee\n",
      "temp: 0.5\n",
      "enegenet - kogyet, e a menemek a leneme meg mere ezemem em era a megy agy nerete ea hor a mes mebt melte emereren a agkel mene  eik egy hegz aztet melee eek e egyeg menere emeleet e eelemeg egyelteeg \n",
      "temp: 1.0\n",
      "eúema és hen íner ed !olet etekiv mem e 2ibikllt e buem mckmeét á mogid. és zerel ües erelvekeőt eey ahhögezene,í éuír\n",
      "vf kok a sonlkette  ebeatt cel, éogobás ennegegzó-  rlgaeg,melrgv,n hocjrlggftazb\n",
      "temp: 1.2\n",
      "egtem;eg öseét egker e togtbűt zeeg.\n",
      "iét, cfor;. b lzedb.át tv ueó y olkvot ett vöránbemhay,megak.\n",
      "öé iakiseeleb\n",
      "akt\n",
      "röe őegee éemteslzébé.cn nseiszattgáükgketek rüklaa erdecc szögomb miészeá,megén zű\n",
      "Epoch 1/4\n",
      "27042/27042 [==============================] - 12s 434us/step - loss: 2.5365\n",
      "Epoch 2/4\n",
      "27042/27042 [==============================] - 12s 432us/step - loss: 2.4476\n",
      "Epoch 3/4\n",
      "27042/27042 [==============================] - 12s 433us/step - loss: 2.3799\n",
      "Epoch 4/4\n",
      "27042/27042 [==============================] - 12s 434us/step - loss: 2.3276\n",
      "A kovetkezo mondatot fogjuk folytatni: léon werth-nek\n",
      "\n",
      "kérem a gyerekeket, ne h\n",
      "temp: 0.1\n",
      "a vagy a kis hegy min a kis hegy a kis hegy min a mis a min a kis hegy min a kis hegy mis a min a kis a mis a kis a mis a min a kis hegy min a mis a mis a kis hegy kis a mis a mis a mis a kis a mis a \n",
      "temp: 0.5\n",
      "e meg szel meg szem, hony a mis har, a na birás min min segy valtam minntet el e kir agyon haz szem a holy nés a vagy vantenkeze - a kiran mogt e mis a voltam a nis egy ha kireg i vis a mig szal a kis\n",
      "temp: 1.0\n",
      "ere. éfbe legyan tseztot tetelfekm nd épet fzdne, n.. belílte de föndi os anbpkszer. a vés.\n",
      "\n",
      "emk, egt feg vemi, amis keledte szél.\n",
      "\n",
      "m nis msegér a jélyelakik úgyáltőt,.\n",
      "\n",
      "- folt. megd, vöt, a mön keles\n",
      "temp: 1.2\n",
      "az.kalsórb? 2űs: ipi nekyicnehlltánkan a jerö.ék. \"es bályototó, ikeroktánék\" hagbon a hetete kiszeber - föládt, még m tégelet eszünak aöbnár ak. hmgy töö. : ögyun, alkipústa. kepes, a aöz, hözt je eg\n",
      "Epoch 1/4\n",
      "27042/27042 [==============================] - 12s 430us/step - loss: 2.2849\n",
      "Epoch 2/4\n",
      "27042/27042 [==============================] - 12s 431us/step - loss: 2.2460\n",
      "Epoch 3/4\n",
      "27042/27042 [==============================] - 12s 432us/step - loss: 2.2130\n",
      "Epoch 4/4\n",
      "27042/27042 [==============================] - 12s 427us/step - loss: 2.1830\n",
      "A kovetkezo mondatot fogjuk folytatni: léon werth-nek\n",
      "\n",
      "kérem a gyerekeket, ne h\n",
      "temp: 0.1\n",
      "erez e mis hereget e meret e mis herege tem egyet e megyet e megyet e mindet e minde e meget e meret e mis herege kerem egyen egyerek erem egy horcsak a kis herceg - meget e megy erem egy harcsi kerem\n",
      "temp: 0.5\n",
      "oly nek egy ez egyezen kis herceg ezt egy seremen kes egyet es eregyeltek elyem elemek egy förenek e teszerek elemetőt kemisze herezőt em hat a kis herceg. - hony miril a holyek relem ha miszenem a ki\n",
      "temp: 1.0\n",
      "a zel édemek emés igy remcse devije ügpös éetken: - zom áldén megytek azti hárdól, akajt azákérbán é: ezsehor. azkilrcek..\n",
      "\n",
      "kére kii is ürrdudakot isned egy revhagentuttára nssombir, modágül e fölötén\n",
      "temp: 1.2\n",
      "erte os erretsem érdisítá göszelütet éracs n vegetetkelép mitu. siültűsminpíd\"dmégsegernél, - miet hólag! halyecis hegyezénák hogy més édésten neked egyoukat fídőmk s negost.\n",
      " él nemhenékéj övanany. s\n",
      "Epoch 1/4\n",
      "27042/27042 [==============================] - 12s 428us/step - loss: 2.1534\n",
      "Epoch 2/4\n",
      "27042/27042 [==============================] - 12s 435us/step - loss: 2.1242\n",
      "Epoch 3/4\n",
      "27042/27042 [==============================] - 12s 431us/step - loss: 2.0968\n",
      "Epoch 4/4\n",
      "27042/27042 [==============================] - 12s 431us/step - loss: 2.0722\n",
      "A kovetkezo mondatot fogjuk folytatni: léon werth-nek\n",
      "\n",
      "kérem a gyerekeket, ne h\n",
      "temp: 0.1\n",
      "ogy nem föltette meg a kis herceg - mondta a kis herceg.\n",
      "\n",
      "- a kis herceg - mondta a kis herceg.\n",
      "\n",
      "- a kis herceg - mondta a kis herceg - megy negy a kis herceg - hogy a barágyok a kis herceg.\n",
      "\n",
      "- a kis \n",
      "temp: 0.5\n",
      "olt a szerem és megyek szért a kissharceg - mogyta vályak a bolygó negy váragaki herezt a kis herceg.\n",
      "\n",
      "- em egy szelette.\n",
      "\n",
      "- sárás som a kis herceg mis holy aszon, a számis a csikár a kirázok relete, \n",
      "temp: 1.0\n",
      "ogy kipit a fólsad.\n",
      "\n",
      "- és. ny.. hém holyzetőlete őgyit egy, kéremen molttatál férszéki, ha mircokrált ég isabb lesiztédele emezér, hogy ezfen- mejd a csir cgak:\n",
      "\n",
      "- fovta nik em miteltéd. ölyette szoba\n",
      "temp: 1.2\n",
      "s felegeteg ! mo,nó hagy fhamit egy nabi -embéruk:zén.\n",
      "a.. am\"n\n",
      "\n",
      "üőn i kézneherrkel semherelévte ki. sze méplseg tamontt a holcka.\n",
      "\n",
      "\n",
      "\n",
      "áhó kugát valak, eemin, neés boknnasnak\n",
      "\n",
      "- fó jólult. égy elysem l\n",
      "Epoch 1/4\n",
      "27042/27042 [==============================] - 12s 438us/step - loss: 2.0465\n",
      "Epoch 2/4\n",
      "27042/27042 [==============================] - 12s 432us/step - loss: 2.0223\n",
      "Epoch 3/4\n",
      "27042/27042 [==============================] - 12s 435us/step - loss: 1.9978\n",
      "Epoch 4/4\n",
      "27042/27042 [==============================] - 12s 435us/step - loss: 1.9747\n",
      "A kovetkezo mondatot fogjuk folytatni: léon werth-nek\n",
      "\n",
      "kérem a gyerekeket, ne h\n",
      "temp: 0.1\n",
      "azzán meg eztem a kis herceg.\n",
      "\n",
      "- a kis herceg.\n",
      "\n",
      "- a kis herceg - mondta a kis herceg - mindta a kis herceg.\n",
      "\n",
      "- a kis herceg - mendette meg elyet egy király a valátom a kis herceg.\n",
      "\n",
      "- a tudta mindi a k\n",
      "temp: 0.5\n",
      "ereg száráz. se mel egy föllönttekes ilelenet. nem napolna miltaman aztem egyeket kéreztem a kis herceg - mert aztán a min csak a kis verceg.\n",
      "\n",
      "- nem is egy telentet.\n",
      "\n",
      "- ha vagy a csirály nemi vele, me\n",
      "temp: 1.0\n",
      "e csalálonászelügü., és a navánam atki, en anckot keszelse. meltt isez esm. - ménfét eze tománák valát.\n",
      "\n",
      "\n",
      "\".\n",
      "\n",
      "3ekhámva a búrcúg a kikhári.\n",
      "\n",
      "ák- enkiőt csillleó mint ingöp nökid.\n",
      "\n",
      "nés hál negeztülenje \n",
      "temp: 1.2\n",
      "ajzt nam a körévettepna, fölem ett ezbés e sók haóm, ostán nembár mejttöl,, amárt mígyékreszelőz, nami deak.\n",
      "\n",
      "salyisát vilsza.\n",
      "\n",
      "- mudtam a gehi aek eteg kojs a magyozogats, havajl meekedtemennakgcanda\n",
      "Epoch 1/4\n",
      "27042/27042 [==============================] - 12s 436us/step - loss: 1.9510\n",
      "Epoch 2/4\n",
      "27042/27042 [==============================] - 12s 435us/step - loss: 1.9275\n",
      "Epoch 3/4\n",
      "27042/27042 [==============================] - 12s 435us/step - loss: 1.9050\n",
      "Epoch 4/4\n",
      "27042/27042 [==============================] - 12s 433us/step - loss: 1.8829\n",
      "A kovetkezo mondatot fogjuk folytatni: léon werth-nek\n",
      "\n",
      "kérem a gyerekeket, ne h\n",
      "temp: 0.1\n",
      "azzon a valám a valátotta a kis herceg - mendte a kis herceg.\n",
      "\n",
      "- meg egy berleg telette a kis herceg telette meg elyette meg ellette meg azt meg elette a kis herceg valámolyak valamon a valágott a kis\n",
      "temp: 0.5\n",
      "ogy rázom volt a kis herceg, helyett elyen a kis herceg.\n",
      "\n",
      "- de mindt mendén mag azt nem i csak a kombar legottal? - mogdoltó a kis herceg - megy a takis még fuldom. le őlyeket mogyol melete meg király\n",
      "temp: 1.0\n",
      "iúgol, mottla mölfegessek tutt is vin es l hazudo, segészede kír észe erek.\n",
      "\n",
      "ezhén mindhakit holtigaz - mirdiak vola totamor:-va agy úmis kepshítettéle: a, hórnikár a villtnnak...\n",
      "\n",
      "a kislhitezs.\n",
      "\n",
      "- mi\n",
      "temp: 1.2\n",
      "asáakos, méven a mistpereltóskok, csipt gemomnak, őói a ozséjara. kér pepert es mer ludnat..\n",
      "\n",
      "- der modiolattok autna vilag, alutkut gelüt esn, hony\".\n",
      "\n",
      "-get- jíbandálka, egyéglölkélt.\n",
      "\n",
      "elsértetuelb te\n",
      "Epoch 1/4\n",
      "27042/27042 [==============================] - 15s 567us/step - loss: 1.8594\n",
      "Epoch 2/4\n",
      "27042/27042 [==============================] - 15s 557us/step - loss: 1.8370\n",
      "Epoch 3/4\n",
      "27042/27042 [==============================] - 15s 564us/step - loss: 1.8144\n",
      "Epoch 4/4\n",
      "27042/27042 [==============================] - 15s 563us/step - loss: 1.7918\n",
      "A kovetkezo mondatot fogjuk folytatni: léon werth-nek\n",
      "\n",
      "kérem a gyerekeket, ne h\n",
      "temp: 0.1\n",
      "azzán a kis herceg.\n",
      "\n",
      "- mindta a kis herceg.\n",
      "\n",
      "- megyet szelette a kis herceg.\n",
      "\n",
      "- te mindon a kis herceg.\n",
      "\n"
     ]
    },
    {
     "name": "stdout",
     "output_type": "stream",
     "text": [
      "- a kis herceg elyette tem a kis herceg.\n",
      "\n",
      "- a kis herceg az egyerek - mendte a kis herceg.\n",
      "\n",
      "- a\n",
      "temp: 0.5\n",
      "oly bandomol a baragyok teleket a kis herceg.\n",
      "\n",
      "- re csak szertem ragodtam valami kegyeltet a kis herceg...\n",
      "\n",
      "- kedhet mind a kis herceg segyek egy villágok, az az emberők, szelsernek tözneszem. holy ne\n",
      "temp: 1.0\n",
      "ozrázvalat vanka..\n",
      "\n",
      "- a rapdáj.\n",
      "\n",
      "- felenők. esmőpr ezszettlen, egyonysárára aomon öttöttve . més mendt-, amba a fölnvát.\n",
      "\n",
      "- va csak hazam. nek píty bérenkott azz juszába - apalta vagod. entélyenkerüge\n",
      "temp: 1.2\n",
      "ivaznan ! magulákán, lemitlang\n",
      "\n",
      "gődböl-sőét ős. - óbrál ó lantott, egisförbet. megt áa rajánok lájzott?\n",
      "\n",
      "\"d is azt egyed segág a ház velme. - me le ís fuldodta: \"- emmveraz olyiseg: \"udkeva:..\n",
      "\n",
      "hihege\n",
      "Epoch 1/4\n",
      "27042/27042 [==============================] - 13s 473us/step - loss: 1.7684\n",
      "Epoch 2/4\n",
      "27042/27042 [==============================] - 13s 492us/step - loss: 1.7466\n",
      "Epoch 3/4\n",
      "27042/27042 [==============================] - 13s 478us/step - loss: 1.7217\n",
      "Epoch 4/4\n",
      "27042/27042 [==============================] - 14s 518us/step - loss: 1.7000\n",
      "A kovetkezo mondatot fogjuk folytatni: léon werth-nek\n",
      "\n",
      "kérem a gyerekeket, ne h\n",
      "temp: 0.1\n",
      "azzont a kis herceg - mondta a kis herceg.\n",
      "\n",
      "- az enyik a fölőtt magodtan kis herceg kell naki helennek te valágot a kis herceg - mondta a kis herceg. - minden - mondta a kis herceg.\n",
      "\n",
      "- jó napot beregg\n",
      "temp: 0.5\n",
      "azoltam higyen kören kért a kerlyettes, aznek a vagy menem a bolygón nem iltem egy marátt megyen telen az egyedet a kis herceg szégeszer nem még azt mindin valánni magoknak tettem kellett, az kis herc\n",
      "temp: 1.0\n",
      "elen a vagó kérészei telenem lösztenvet a töldöt vegga, ondbárola, ülrez agmoris nemsze azott megtt egyák, ni csolánt meg kelt az vallám evetem az íföbbün egy nakoz elyedülné, aon fuldonkottór, ha val\n",
      "temp: 1.2\n",
      "anik bolygkúotttán\n",
      "\n",
      "- kerhez itolá, kígyottlen?\n",
      "\n",
      "- vághán cseklamon az, toldínek, azóznem edteret, mond zum!án kilró, aznik mondté! - voll: náztidem htönnit. em a feggvdrajs a rösz eletőzbínkoztamo fa\n",
      "Epoch 1/4\n",
      "27042/27042 [==============================] - 15s 549us/step - loss: 1.6765\n",
      "Epoch 2/4\n",
      "27042/27042 [==============================] - 14s 531us/step - loss: 1.6516\n",
      "Epoch 3/4\n",
      "27042/27042 [==============================] - 15s 548us/step - loss: 1.6297\n",
      "Epoch 4/4\n",
      "27042/27042 [==============================] - 14s 510us/step - loss: 1.6078\n",
      "A kovetkezo mondatot fogjuk folytatni: léon werth-nek\n",
      "\n",
      "kérem a gyerekeket, ne h\n",
      "temp: 0.1\n",
      "azontaman kis herceg a király.\n",
      "\n",
      "- a hogy elente a kis herceg.\n",
      "\n",
      "- a kis herceg lelen a bolygó a biráncokot a baráncokat, a borogyón nicsin a volt megyeren vagyon kerel kerel egy király valagotta a kis \n",
      "temp: 0.5\n",
      "ezzegettem a kis herceg le majra kerett a kilygenek ta a varagak, éstem a szérek. még ha aztllam az egy sárat. és meg mindig - mellelte szának telen - mondna \" egyszertű kazályottam reledt mandi keges\n",
      "temp: 1.0\n",
      "agygabszézére iatanat kozodta.\n",
      "\n",
      "ésmper énti letta. mapandta, és egy valáni bánlontmad. csillhette negy válók a cirágyokoltata regeleg. érezek intvaba ragancis? -em tomozolvan a t herókéreut a birálomé\n",
      "temp: 1.2\n",
      "erzegeztem a ferel. az. akér belenyelyéol báradt belírűdés t emrelenek? - eznem ezőm. ulanasman olyan üegvül, akvarazálvaz egyezem érzenik.\n",
      "\n",
      "a kicélhenam retjégembalemkőlek.\n",
      "\n",
      "hernet a virásségek vén. \n",
      "Epoch 1/4\n",
      "27042/27042 [==============================] - 15s 540us/step - loss: 1.5847\n",
      "Epoch 2/4\n",
      "27042/27042 [==============================] - 15s 562us/step - loss: 1.5583\n",
      "Epoch 3/4\n",
      "27042/27042 [==============================] - 15s 545us/step - loss: 1.5361\n",
      "Epoch 4/4\n",
      "27042/27042 [==============================] - 15s 568us/step - loss: 1.5127\n",
      "A kovetkezo mondatot fogjuk folytatni: léon werth-nek\n",
      "\n",
      "kérem a gyerekeket, ne h\n",
      "temp: 0.1\n",
      "ezenette a kis herceg.\n",
      "\n",
      "- nem tudom meg a kis herceg.\n",
      "\n",
      "- nem nem telem a kis herceg lelem a kis herceg szomort is egy kis kerre meg szerette kesztem a kis herceg telem elyette meg a kis herceg temem e\n",
      "temp: 0.5\n",
      "aragodtam tedem, mind egy maja sem erszermekel a kis herceg neki, hogy ett ker nek holy kindeni.\n",
      "\n",
      "- hát szon megsze még arkinak - mondta.\n",
      "\n",
      "- szem egyetlet meg ezentépen föln agaltam egy azt fölnik, ho\n",
      "temp: 1.0\n",
      "azamunkiszelendégyek valánki -épotta  egy berígy kisakyot a kis heteg riszákon ogy, erel kellette elgedtélkezben érre jöllettettény.\n",
      "\n",
      "- ht esznek még azt ember a kis her-tdenik meg egmét.\n",
      "\n",
      "alkió tutká\n",
      "temp: 1.2\n",
      "aránok, holnyes gajdaságos ném eökkött m fllékent. \n",
      "sszak úgban telené. csolja a köb, hirezit, hogy nulpolta, holy báronam. a vatokú, azoos neg fölt gelre melse.\n",
      "\n",
      ". tegek nagy edem. - hordelets a véll\n"
     ]
    }
   ],
   "source": [
    "interations = 10\n",
    "sentence_id = 23\n",
    "for iteration in range(interations):\n",
    "    model.fit(X,Y, batch_size=256, epochs=4)\n",
    "    print(\"A kovetkezo mondatot fogjuk folytatni:\",sentences[sentence_id])\n",
    "  \n",
    "    for temp in [0.1,0.5,1.,1.2]:\n",
    "        generated=sentences[sentence_id]\n",
    "        test_sentence = sentences[sentence_id]\n",
    "        print(\"temp:\",temp)\n",
    "\n",
    "        for i in range(200):\n",
    "            X_test = np.zeros((1, window_length, len(chars)))\n",
    "            for t, char in enumerate(test_sentence):\n",
    "                X_test[0,t,char_indices[char]]=1\n",
    "\n",
    "            preds = model.predict(X_test, verbose=0) # (mintak szama, onehot)\n",
    "            next_index, a = sample(preds.reshape(-1),temp) # (onehot,)\n",
    "            #next_index = np.argmax(preds)\n",
    "            next_char = indices_char[next_index]\n",
    "\n",
    "            generated += next_char\n",
    "            test_sentence = test_sentence[1:]+next_char\n",
    "            sys.stdout.write(next_char)\n",
    "            sys.stdout.flush()\n",
    "        print()"
   ]
  },
  {
   "cell_type": "code",
   "execution_count": null,
   "metadata": {},
   "outputs": [],
   "source": [
    "\n"
   ]
  }
 ],
 "metadata": {
  "kernelspec": {
   "display_name": "Python 3",
   "language": "python",
   "name": "python3"
  },
  "language_info": {
   "codemirror_mode": {
    "name": "ipython",
    "version": 3
   },
   "file_extension": ".py",
   "mimetype": "text/x-python",
   "name": "python",
   "nbconvert_exporter": "python",
   "pygments_lexer": "ipython3",
   "version": "3.7.3"
  }
 },
 "nbformat": 4,
 "nbformat_minor": 2
}
